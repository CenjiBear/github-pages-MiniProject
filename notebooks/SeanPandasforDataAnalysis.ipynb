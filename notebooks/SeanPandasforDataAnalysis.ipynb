{
 "cells": [
  {
   "cell_type": "markdown",
   "metadata": {
    "id": "1ivPDcc7p8lD"
   },
   "source": [
    "# TASK #1. DEFINE A PANDAS SERIES"
   ]
  },
  {
   "cell_type": "code",
   "execution_count": 2,
   "metadata": {
    "executionInfo": {
     "elapsed": 2873,
     "status": "ok",
     "timestamp": 1618858274556,
     "user": {
      "displayName": "Stemplicity",
      "photoUrl": "https://lh3.googleusercontent.com/a-/AOh14Gj2vCFt-bD5mPBhUWX0QA6xiBgoXQXtwUm2jgjaCg=s64",
      "userId": "10668071569687886186"
     },
     "user_tz": 240
    },
    "id": "4YdCraz8p_XF"
   },
   "outputs": [],
   "source": [
    "# Pandas is a data manipulation and analysis tool that is built on Numpy.\n",
    "# Pandas uses a data structure known as DataFrame (think of it as Microsoft excel in Python). \n",
    "# DataFrames empower programmers to store and manipulate data in a tabular fashion (rows and columns).\n",
    "# Series Vs. DataFrame? Series is considered a single column of a DataFrame.\n",
    "\n",
    "import pandas as pd"
   ]
  },
  {
   "cell_type": "code",
   "execution_count": 3,
   "metadata": {
    "colab": {
     "base_uri": "https://localhost:8080/"
    },
    "executionInfo": {
     "elapsed": 2854,
     "status": "ok",
     "timestamp": 1618858274558,
     "user": {
      "displayName": "Stemplicity",
      "photoUrl": "https://lh3.googleusercontent.com/a-/AOh14Gj2vCFt-bD5mPBhUWX0QA6xiBgoXQXtwUm2jgjaCg=s64",
      "userId": "10668071569687886186"
     },
     "user_tz": 240
    },
    "id": "SA9m0RD3K2TF",
    "outputId": "26cc61d4-5858-4a5f-e1b8-e8b7dce26b31"
   },
   "outputs": [
    {
     "data": {
      "text/plain": [
       "['BTC', 'XRP', 'LTC', 'ADA', 'ETH']"
      ]
     },
     "execution_count": 3,
     "metadata": {},
     "output_type": "execute_result"
    }
   ],
   "source": [
    "# Let's define a Python list that contains 5 crypto currencies \n",
    "cryptos = ['BTC', 'XRP', 'LTC', 'ADA', 'ETH']\n",
    "cryptos"
   ]
  },
  {
   "cell_type": "code",
   "execution_count": 4,
   "metadata": {
    "colab": {
     "base_uri": "https://localhost:8080/"
    },
    "executionInfo": {
     "elapsed": 2842,
     "status": "ok",
     "timestamp": 1618858274558,
     "user": {
      "displayName": "Stemplicity",
      "photoUrl": "https://lh3.googleusercontent.com/a-/AOh14Gj2vCFt-bD5mPBhUWX0QA6xiBgoXQXtwUm2jgjaCg=s64",
      "userId": "10668071569687886186"
     },
     "user_tz": 240
    },
    "id": "G-fooAckNafC",
    "outputId": "dedb005a-3e3a-4e3f-a9e3-f9a0fb91948a",
    "scrolled": true
   },
   "outputs": [
    {
     "data": {
      "text/plain": [
       "list"
      ]
     },
     "execution_count": 4,
     "metadata": {},
     "output_type": "execute_result"
    }
   ],
   "source": [
    "# Let's confirm the Datatype\n",
    "type(cryptos)"
   ]
  },
  {
   "cell_type": "code",
   "execution_count": 6,
   "metadata": {
    "colab": {
     "base_uri": "https://localhost:8080/"
    },
    "executionInfo": {
     "elapsed": 2831,
     "status": "ok",
     "timestamp": 1618858274559,
     "user": {
      "displayName": "Stemplicity",
      "photoUrl": "https://lh3.googleusercontent.com/a-/AOh14Gj2vCFt-bD5mPBhUWX0QA6xiBgoXQXtwUm2jgjaCg=s64",
      "userId": "10668071569687886186"
     },
     "user_tz": 240
    },
    "id": "hle4zw51K6-P",
    "outputId": "6cd50b46-ecce-41ad-c688-ca3a662d3d5c"
   },
   "outputs": [
    {
     "data": {
      "text/plain": [
       "0    BTC\n",
       "1    XRP\n",
       "2    LTC\n",
       "3    ADA\n",
       "4    ETH\n",
       "dtype: object"
      ]
     },
     "execution_count": 6,
     "metadata": {},
     "output_type": "execute_result"
    }
   ],
   "source": [
    "# Let's create a one dimensional Pandas \"series\" \n",
    "# Let's use Pandas Constructor Method to create a series from a Python list\n",
    "# Note that series is formed of data and associated index (numeric index has been automatically generated) \n",
    "# Check Pandas Documentation for More information: https://pandas.pydata.org/pandas-docs/stable/reference/api/pandas.Series.html#pandas.Series\n",
    "# Object datatype is used for text data (String)\n",
    "cryptos_series = pd.Series(data = cryptos)\n",
    "cryptos_series"
   ]
  },
  {
   "cell_type": "code",
   "execution_count": 7,
   "metadata": {
    "colab": {
     "base_uri": "https://localhost:8080/"
    },
    "executionInfo": {
     "elapsed": 2818,
     "status": "ok",
     "timestamp": 1618858274559,
     "user": {
      "displayName": "Stemplicity",
      "photoUrl": "https://lh3.googleusercontent.com/a-/AOh14Gj2vCFt-bD5mPBhUWX0QA6xiBgoXQXtwUm2jgjaCg=s64",
      "userId": "10668071569687886186"
     },
     "user_tz": 240
    },
    "id": "-HNCtPcoNUyf",
    "outputId": "de6ed879-617b-454d-e792-7a7cb300b903"
   },
   "outputs": [
    {
     "data": {
      "text/plain": [
       "pandas.core.series.Series"
      ]
     },
     "execution_count": 7,
     "metadata": {},
     "output_type": "execute_result"
    }
   ],
   "source": [
    "# Let's confirm the Pandas Series Datatype\n",
    "type(cryptos_series)"
   ]
  },
  {
   "cell_type": "code",
   "execution_count": 8,
   "metadata": {
    "colab": {
     "base_uri": "https://localhost:8080/"
    },
    "executionInfo": {
     "elapsed": 2806,
     "status": "ok",
     "timestamp": 1618858274560,
     "user": {
      "displayName": "Stemplicity",
      "photoUrl": "https://lh3.googleusercontent.com/a-/AOh14Gj2vCFt-bD5mPBhUWX0QA6xiBgoXQXtwUm2jgjaCg=s64",
      "userId": "10668071569687886186"
     },
     "user_tz": 240
    },
    "id": "LB2J-qw5LdQI",
    "outputId": "b094c6c0-9091-4998-9cfe-01c00ac51933"
   },
   "outputs": [
    {
     "data": {
      "text/plain": [
       "0     200\n",
       "1     500\n",
       "2    2000\n",
       "3      20\n",
       "4      50\n",
       "dtype: int64"
      ]
     },
     "execution_count": 8,
     "metadata": {},
     "output_type": "execute_result"
    }
   ],
   "source": [
    "# Let's define another Pandas Series that contains numeric values (crypto prices) instead of text data\n",
    "# Note that we have int64 datatype which means it's integer stored in 64 bits in memory\n",
    "crypto_prices_series = pd.Series(data = [200,500,2000,20,50])\n",
    "crypto_prices_series"
   ]
  },
  {
   "cell_type": "code",
   "execution_count": 9,
   "metadata": {},
   "outputs": [
    {
     "data": {
      "text/plain": [
       "pandas.core.series.Series"
      ]
     },
     "execution_count": 9,
     "metadata": {},
     "output_type": "execute_result"
    }
   ],
   "source": [
    "type(crypto_prices_series)"
   ]
  },
  {
   "cell_type": "markdown",
   "metadata": {
    "id": "8C0UN46KIntM"
   },
   "source": [
    "**MINI CHALLENGE #1:**\n",
    "- **Define a Pandas Series named \"my_series\" that contains your top 3 favourite stocks. Confirm the datatype of \"my_series\"**"
   ]
  },
  {
   "cell_type": "code",
   "execution_count": null,
   "metadata": {
    "executionInfo": {
     "elapsed": 2804,
     "status": "ok",
     "timestamp": 1618858274560,
     "user": {
      "displayName": "Stemplicity",
      "photoUrl": "https://lh3.googleusercontent.com/a-/AOh14Gj2vCFt-bD5mPBhUWX0QA6xiBgoXQXtwUm2jgjaCg=s64",
      "userId": "10668071569687886186"
     },
     "user_tz": 240
    },
    "id": "l2aMAKvpJyWH"
   },
   "outputs": [],
   "source": []
  },
  {
   "cell_type": "markdown",
   "metadata": {
    "id": "XN92TgiQOD7I"
   },
   "source": [
    "# TASK #2. DEFINE A PANDAS SERIES WITH CUSTOM INDEX"
   ]
  },
  {
   "cell_type": "code",
   "execution_count": 7,
   "metadata": {
    "colab": {
     "base_uri": "https://localhost:8080/"
    },
    "executionInfo": {
     "elapsed": 2793,
     "status": "ok",
     "timestamp": 1618858274561,
     "user": {
      "displayName": "Stemplicity",
      "photoUrl": "https://lh3.googleusercontent.com/a-/AOh14Gj2vCFt-bD5mPBhUWX0QA6xiBgoXQXtwUm2jgjaCg=s64",
      "userId": "10668071569687886186"
     },
     "user_tz": 240
    },
    "id": "K4Y9jVx1OaN4",
    "outputId": "bb27d7de-b628-4d2e-d514-b372f8028f3c"
   },
   "outputs": [
    {
     "data": {
      "text/plain": [
       "['BTC', 'XRP', 'LTC', 'ADA', 'ETH']"
      ]
     },
     "execution_count": 7,
     "metadata": {},
     "output_type": "execute_result"
    }
   ],
   "source": [
    "# Let's define a Python list that contains 5 Crypto currencies\n"
   ]
  },
  {
   "cell_type": "code",
   "execution_count": 10,
   "metadata": {
    "colab": {
     "base_uri": "https://localhost:8080/"
    },
    "executionInfo": {
     "elapsed": 2782,
     "status": "ok",
     "timestamp": 1618858274561,
     "user": {
      "displayName": "Stemplicity",
      "photoUrl": "https://lh3.googleusercontent.com/a-/AOh14Gj2vCFt-bD5mPBhUWX0QA6xiBgoXQXtwUm2jgjaCg=s64",
      "userId": "10668071569687886186"
     },
     "user_tz": 240
    },
    "id": "ZSxdgs_xJvxx",
    "outputId": "6236c8f5-d62a-4ef9-9f12-8df4561ea8eb"
   },
   "outputs": [],
   "source": [
    "# Let's define a python list as shown below. This python list will be used for the Series index:\n",
    "index = ['crypto#1', 'crypto#2', 'crypto#3', 'crypto#4', 'crypto#5']"
   ]
  },
  {
   "cell_type": "code",
   "execution_count": 11,
   "metadata": {
    "executionInfo": {
     "elapsed": 2780,
     "status": "ok",
     "timestamp": 1618858274562,
     "user": {
      "displayName": "Stemplicity",
      "photoUrl": "https://lh3.googleusercontent.com/a-/AOh14Gj2vCFt-bD5mPBhUWX0QA6xiBgoXQXtwUm2jgjaCg=s64",
      "userId": "10668071569687886186"
     },
     "user_tz": 240
    },
    "id": "U4Fq06XwqX9v"
   },
   "outputs": [],
   "source": [
    "# Let's create a one dimensional Pandas \"series\" \n",
    "# Let's use Pandas Constructor Method to create a series from a Python list\n",
    "# Note that this series is formed of data and associated labels \n",
    "cryptos_series = pd.Series(data = cryptos, index = index)"
   ]
  },
  {
   "cell_type": "code",
   "execution_count": 12,
   "metadata": {
    "colab": {
     "base_uri": "https://localhost:8080/"
    },
    "executionInfo": {
     "elapsed": 3263,
     "status": "ok",
     "timestamp": 1618858275058,
     "user": {
      "displayName": "Stemplicity",
      "photoUrl": "https://lh3.googleusercontent.com/a-/AOh14Gj2vCFt-bD5mPBhUWX0QA6xiBgoXQXtwUm2jgjaCg=s64",
      "userId": "10668071569687886186"
     },
     "user_tz": 240
    },
    "id": "YhPzprisqX_8",
    "outputId": "bbc1914a-67a3-4226-9827-da1657710c5d"
   },
   "outputs": [
    {
     "data": {
      "text/plain": [
       "crypto#1    BTC\n",
       "crypto#2    XRP\n",
       "crypto#3    LTC\n",
       "crypto#4    ADA\n",
       "crypto#5    ETH\n",
       "dtype: object"
      ]
     },
     "execution_count": 12,
     "metadata": {},
     "output_type": "execute_result"
    }
   ],
   "source": [
    "# Let's view the series\n",
    "cryptos_series"
   ]
  },
  {
   "cell_type": "code",
   "execution_count": 13,
   "metadata": {
    "colab": {
     "base_uri": "https://localhost:8080/"
    },
    "executionInfo": {
     "elapsed": 3251,
     "status": "ok",
     "timestamp": 1618858275058,
     "user": {
      "displayName": "Stemplicity",
      "photoUrl": "https://lh3.googleusercontent.com/a-/AOh14Gj2vCFt-bD5mPBhUWX0QA6xiBgoXQXtwUm2jgjaCg=s64",
      "userId": "10668071569687886186"
     },
     "user_tz": 240
    },
    "id": "4LPwMO8fsvi1",
    "outputId": "1d1a2f35-2932-49f3-e4b0-e6176c34d1a8"
   },
   "outputs": [
    {
     "data": {
      "text/plain": [
       "pandas.core.series.Series"
      ]
     },
     "execution_count": 13,
     "metadata": {},
     "output_type": "execute_result"
    }
   ],
   "source": [
    "# Let's obtain the datatype\n",
    "type(cryptos_series)"
   ]
  },
  {
   "cell_type": "markdown",
   "metadata": {
    "id": "13icipAKL4W5"
   },
   "source": [
    "**MINI CHALLENGE #2:**\n",
    "- **Define a Pandas Series named \"my_series\" that contains your top 3 favourite stocks. Instead of using default numeric indexes (similar to mini challenge #1), use the following indexes \"stock #1\", \"stock #2\", and \"stock #3\"**"
   ]
  },
  {
   "cell_type": "code",
   "execution_count": null,
   "metadata": {
    "executionInfo": {
     "elapsed": 3249,
     "status": "ok",
     "timestamp": 1618858275059,
     "user": {
      "displayName": "Stemplicity",
      "photoUrl": "https://lh3.googleusercontent.com/a-/AOh14Gj2vCFt-bD5mPBhUWX0QA6xiBgoXQXtwUm2jgjaCg=s64",
      "userId": "10668071569687886186"
     },
     "user_tz": 240
    },
    "id": "NZBRmbbuL8OC"
   },
   "outputs": [],
   "source": []
  },
  {
   "cell_type": "markdown",
   "metadata": {
    "id": "96EH6h9SQYW1"
   },
   "source": [
    "# TASK #3. DEFINE A PANDAS SERIES FROM A DICTIONARY"
   ]
  },
  {
   "cell_type": "code",
   "execution_count": 12,
   "metadata": {
    "executionInfo": {
     "elapsed": 3247,
     "status": "ok",
     "timestamp": 1618858275060,
     "user": {
      "displayName": "Stemplicity",
      "photoUrl": "https://lh3.googleusercontent.com/a-/AOh14Gj2vCFt-bD5mPBhUWX0QA6xiBgoXQXtwUm2jgjaCg=s64",
      "userId": "10668071569687886186"
     },
     "user_tz": 240
    },
    "id": "fk9R_fZlML_y"
   },
   "outputs": [],
   "source": [
    "# A Dictionary consists of a collection of key-value pairs. Each key-value pair maps the key to its corresponding value.\n",
    "# Keys are unique within a dictionary while values may not be. \n",
    "# List elements are accessed by their position in the list, via indexing while Dictionary elements are accessed via keys\n",
    "# Define a dictionary named \"my_dict\" using key-value pairs\n"
   ]
  },
  {
   "cell_type": "code",
   "execution_count": 14,
   "metadata": {
    "colab": {
     "base_uri": "https://localhost:8080/"
    },
    "executionInfo": {
     "elapsed": 3235,
     "status": "ok",
     "timestamp": 1618858275060,
     "user": {
      "displayName": "Stemplicity",
      "photoUrl": "https://lh3.googleusercontent.com/a-/AOh14Gj2vCFt-bD5mPBhUWX0QA6xiBgoXQXtwUm2jgjaCg=s64",
      "userId": "10668071569687886186"
     },
     "user_tz": 240
    },
    "id": "BlHhf-YPQdrB",
    "outputId": "8b32d4de-c0e0-4399-a67a-b90d33b99dd0"
   },
   "outputs": [
    {
     "data": {
      "text/plain": [
       "{'Employee ID': 1,\n",
       " 'Employee Name': 'Steve',\n",
       " 'Salary [$]': 2000,\n",
       " 'Years with company': 10}"
      ]
     },
     "execution_count": 14,
     "metadata": {},
     "output_type": "execute_result"
    }
   ],
   "source": [
    "# Show the dictionary\n",
    "my_dict = {'Employee ID': 1,\n",
    " 'Employee Name': 'Steve',\n",
    " 'Salary [$]': 2000,\n",
    " 'Years with company': 10}\n",
    "my_dict"
   ]
  },
  {
   "cell_type": "code",
   "execution_count": 15,
   "metadata": {
    "colab": {
     "base_uri": "https://localhost:8080/"
    },
    "executionInfo": {
     "elapsed": 3223,
     "status": "ok",
     "timestamp": 1618858275061,
     "user": {
      "displayName": "Stemplicity",
      "photoUrl": "https://lh3.googleusercontent.com/a-/AOh14Gj2vCFt-bD5mPBhUWX0QA6xiBgoXQXtwUm2jgjaCg=s64",
      "userId": "10668071569687886186"
     },
     "user_tz": 240
    },
    "id": "0b4KQo3JMcI0",
    "outputId": "0223f43e-a5a1-4759-96db-357481a582ab"
   },
   "outputs": [
    {
     "data": {
      "text/plain": [
       "dict"
      ]
     },
     "execution_count": 15,
     "metadata": {},
     "output_type": "execute_result"
    }
   ],
   "source": [
    "# Confirm the dictionary datatype \n",
    "type(my_dict)"
   ]
  },
  {
   "cell_type": "code",
   "execution_count": 16,
   "metadata": {
    "colab": {
     "base_uri": "https://localhost:8080/"
    },
    "executionInfo": {
     "elapsed": 3212,
     "status": "ok",
     "timestamp": 1618858275061,
     "user": {
      "displayName": "Stemplicity",
      "photoUrl": "https://lh3.googleusercontent.com/a-/AOh14Gj2vCFt-bD5mPBhUWX0QA6xiBgoXQXtwUm2jgjaCg=s64",
      "userId": "10668071569687886186"
     },
     "user_tz": 240
    },
    "id": "LeH27Q4aQeXe",
    "outputId": "e7e8c45a-7c15-4975-dc3f-d04526840b0e"
   },
   "outputs": [
    {
     "data": {
      "text/plain": [
       "Employee ID               1\n",
       "Employee Name         Steve\n",
       "Salary [$]             2000\n",
       "Years with company       10\n",
       "dtype: object"
      ]
     },
     "execution_count": 16,
     "metadata": {},
     "output_type": "execute_result"
    }
   ],
   "source": [
    "# Let's define a Pandas Series Using the dictionary\n",
    "employee_series = pd.Series(my_dict)\n",
    "employee_series"
   ]
  },
  {
   "cell_type": "markdown",
   "metadata": {
    "id": "_Tk4kxlLNI85"
   },
   "source": [
    "**MINI CHALLENGE #3:**\n",
    "- **Create a Pandas Series from a dictionary with 3 of your favourite stocks and their corresponding prices** "
   ]
  },
  {
   "cell_type": "code",
   "execution_count": null,
   "metadata": {
    "executionInfo": {
     "elapsed": 3211,
     "status": "ok",
     "timestamp": 1618858275062,
     "user": {
      "displayName": "Stemplicity",
      "photoUrl": "https://lh3.googleusercontent.com/a-/AOh14Gj2vCFt-bD5mPBhUWX0QA6xiBgoXQXtwUm2jgjaCg=s64",
      "userId": "10668071569687886186"
     },
     "user_tz": 240
    },
    "id": "nlG7J4oKNLuY"
   },
   "outputs": [],
   "source": []
  },
  {
   "cell_type": "markdown",
   "metadata": {
    "id": "VGlb7t7WRIR3"
   },
   "source": [
    "# TASK #4. PANDAS ATTRIBUTES"
   ]
  },
  {
   "cell_type": "code",
   "execution_count": 19,
   "metadata": {
    "colab": {
     "base_uri": "https://localhost:8080/"
    },
    "executionInfo": {
     "elapsed": 3200,
     "status": "ok",
     "timestamp": 1618858275063,
     "user": {
      "displayName": "Stemplicity",
      "photoUrl": "https://lh3.googleusercontent.com/a-/AOh14Gj2vCFt-bD5mPBhUWX0QA6xiBgoXQXtwUm2jgjaCg=s64",
      "userId": "10668071569687886186"
     },
     "user_tz": 240
    },
    "id": "p4FauWQlRRD8",
    "outputId": "e4886437-037a-4c0d-d101-4ae420394a55"
   },
   "outputs": [
    {
     "data": {
      "text/plain": [
       "crypto#1    BTC\n",
       "crypto#2    XRP\n",
       "crypto#3    LTC\n",
       "crypto#4    ADA\n",
       "crypto#5    ETH\n",
       "dtype: object"
      ]
     },
     "execution_count": 19,
     "metadata": {},
     "output_type": "execute_result"
    }
   ],
   "source": [
    "# Attributes/Properties: do not use parantheses \"()\" and are used to get Pandas Series Properties. Ex: my_series.values, my_series.shape\n",
    "# Methods: use parantheses \"()\" and might include arguments and they actually alter/change the Pandas Series. Ex: my_series.tail(), my_series.head(), my_series.drop_duplicates()\n",
    "# Indexers: use square brackets \"[]\" and are used to access specific elements in a Pandas Series or DataFrame. Ex: my_series.loc[], my_series.iloc[]\n",
    "\n",
    "# Let's redefine a Pandas Series containing our favourite 5 cryptos \n",
    "cryptos_series"
   ]
  },
  {
   "cell_type": "code",
   "execution_count": 21,
   "metadata": {
    "colab": {
     "base_uri": "https://localhost:8080/"
    },
    "executionInfo": {
     "elapsed": 3191,
     "status": "ok",
     "timestamp": 1618858275063,
     "user": {
      "displayName": "Stemplicity",
      "photoUrl": "https://lh3.googleusercontent.com/a-/AOh14Gj2vCFt-bD5mPBhUWX0QA6xiBgoXQXtwUm2jgjaCg=s64",
      "userId": "10668071569687886186"
     },
     "user_tz": 240
    },
    "id": "KBgZI_vHQeeA",
    "outputId": "15e55866-6ba6-4092-d147-ebd9ea3db158"
   },
   "outputs": [
    {
     "data": {
      "text/plain": [
       "array(['BTC', 'XRP', 'LTC', 'ADA', 'ETH'], dtype=object)"
      ]
     },
     "execution_count": 21,
     "metadata": {},
     "output_type": "execute_result"
    }
   ],
   "source": [
    "# \".Values\" attribute is used to return Series as ndarray depending on its dtype\n",
    "# Check this for more information: https://pandas.pydata.org/docs/reference/api/pandas.Series.values.html#pandas.Series.values\n",
    "cryptos_series.values"
   ]
  },
  {
   "cell_type": "code",
   "execution_count": 22,
   "metadata": {
    "colab": {
     "base_uri": "https://localhost:8080/"
    },
    "executionInfo": {
     "elapsed": 3181,
     "status": "ok",
     "timestamp": 1618858275064,
     "user": {
      "displayName": "Stemplicity",
      "photoUrl": "https://lh3.googleusercontent.com/a-/AOh14Gj2vCFt-bD5mPBhUWX0QA6xiBgoXQXtwUm2jgjaCg=s64",
      "userId": "10668071569687886186"
     },
     "user_tz": 240
    },
    "id": "YDunyBEQRtoJ",
    "outputId": "b871c285-8973-4076-9c77-61898c193f42"
   },
   "outputs": [
    {
     "data": {
      "text/plain": [
       "Index(['crypto#1', 'crypto#2', 'crypto#3', 'crypto#4', 'crypto#5'], dtype='object')"
      ]
     },
     "execution_count": 22,
     "metadata": {},
     "output_type": "execute_result"
    }
   ],
   "source": [
    "# index is used to return the index (axis labels) of the Series\n",
    "cryptos_series.index"
   ]
  },
  {
   "cell_type": "code",
   "execution_count": 25,
   "metadata": {
    "colab": {
     "base_uri": "https://localhost:8080/"
    },
    "executionInfo": {
     "elapsed": 3171,
     "status": "ok",
     "timestamp": 1618858275065,
     "user": {
      "displayName": "Stemplicity",
      "photoUrl": "https://lh3.googleusercontent.com/a-/AOh14Gj2vCFt-bD5mPBhUWX0QA6xiBgoXQXtwUm2jgjaCg=s64",
      "userId": "10668071569687886186"
     },
     "user_tz": 240
    },
    "id": "7bgfGfQaSrqw",
    "outputId": "1500e3b0-a9da-4d61-cbe2-fdf8fe296a1e"
   },
   "outputs": [
    {
     "data": {
      "text/plain": [
       "dtype('O')"
      ]
     },
     "execution_count": 25,
     "metadata": {},
     "output_type": "execute_result"
    }
   ],
   "source": [
    "# dtype is used to return the datatype of the Series ('O' stands for 'object' datatype)\n",
    "cryptos_series.dtype"
   ]
  },
  {
   "cell_type": "code",
   "execution_count": 26,
   "metadata": {
    "colab": {
     "base_uri": "https://localhost:8080/"
    },
    "executionInfo": {
     "elapsed": 3154,
     "status": "ok",
     "timestamp": 1618858275066,
     "user": {
      "displayName": "Stemplicity",
      "photoUrl": "https://lh3.googleusercontent.com/a-/AOh14Gj2vCFt-bD5mPBhUWX0QA6xiBgoXQXtwUm2jgjaCg=s64",
      "userId": "10668071569687886186"
     },
     "user_tz": 240
    },
    "id": "XeQtP9v2dxzu",
    "outputId": "6689f7de-159f-48d3-9abf-bba1c6f6b198"
   },
   "outputs": [
    {
     "data": {
      "text/plain": [
       "True"
      ]
     },
     "execution_count": 26,
     "metadata": {},
     "output_type": "execute_result"
    }
   ],
   "source": [
    "# Check if all elements are unique or not\n",
    "cryptos_series.is_unique"
   ]
  },
  {
   "cell_type": "code",
   "execution_count": 27,
   "metadata": {
    "colab": {
     "base_uri": "https://localhost:8080/"
    },
    "executionInfo": {
     "elapsed": 3133,
     "status": "ok",
     "timestamp": 1618858275066,
     "user": {
      "displayName": "Stemplicity",
      "photoUrl": "https://lh3.googleusercontent.com/a-/AOh14Gj2vCFt-bD5mPBhUWX0QA6xiBgoXQXtwUm2jgjaCg=s64",
      "userId": "10668071569687886186"
     },
     "user_tz": 240
    },
    "id": "8VWnKVh0d7Kw",
    "outputId": "dca8b133-a9c1-432d-ed9d-9f9056224e62"
   },
   "outputs": [
    {
     "data": {
      "text/plain": [
       "(5,)"
      ]
     },
     "execution_count": 27,
     "metadata": {},
     "output_type": "execute_result"
    }
   ],
   "source": [
    "# Check the shape of the Series\n",
    "# note that a Series is one dimensional\n",
    "cryptos_series.shape"
   ]
  },
  {
   "cell_type": "markdown",
   "metadata": {
    "id": "gPL7KbA3XGr1"
   },
   "source": [
    "**MINI CHALLENGE #4:** \n",
    "- **What is the size of the Pandas Series? (External Research for the proper attribute is Required)**"
   ]
  },
  {
   "cell_type": "code",
   "execution_count": 28,
   "metadata": {
    "executionInfo": {
     "elapsed": 3132,
     "status": "ok",
     "timestamp": 1618858275067,
     "user": {
      "displayName": "Stemplicity",
      "photoUrl": "https://lh3.googleusercontent.com/a-/AOh14Gj2vCFt-bD5mPBhUWX0QA6xiBgoXQXtwUm2jgjaCg=s64",
      "userId": "10668071569687886186"
     },
     "user_tz": 240
    },
    "id": "SyfddtryXbmX"
   },
   "outputs": [
    {
     "data": {
      "text/plain": [
       "5"
      ]
     },
     "execution_count": 28,
     "metadata": {},
     "output_type": "execute_result"
    }
   ],
   "source": [
    "cryptos_series.size"
   ]
  },
  {
   "cell_type": "markdown",
   "metadata": {
    "id": "Qc7sVau-UtYt"
   },
   "source": [
    "# TASK #5. PANDAS METHODS"
   ]
  },
  {
   "cell_type": "code",
   "execution_count": 29,
   "metadata": {
    "colab": {
     "base_uri": "https://localhost:8080/"
    },
    "executionInfo": {
     "elapsed": 3125,
     "status": "ok",
     "timestamp": 1618858275068,
     "user": {
      "displayName": "Stemplicity",
      "photoUrl": "https://lh3.googleusercontent.com/a-/AOh14Gj2vCFt-bD5mPBhUWX0QA6xiBgoXQXtwUm2jgjaCg=s64",
      "userId": "10668071569687886186"
     },
     "user_tz": 240
    },
    "id": "5gwWM4VvUxI2",
    "outputId": "7cb2d91b-0317-4708-9140-053a2ac721c2"
   },
   "outputs": [
    {
     "data": {
      "text/plain": [
       "0     200\n",
       "1     500\n",
       "2    2000\n",
       "3      20\n",
       "4      50\n",
       "dtype: int64"
      ]
     },
     "execution_count": 29,
     "metadata": {},
     "output_type": "execute_result"
    }
   ],
   "source": [
    "# Methods have parentheses and they actually alter/change the Pandas Series\n",
    "# Methods: use parantheses \"()\" and might include arguments. Ex: my_series.tail(), my_series.head(), my_series.drop_duplicates()\n",
    "\n",
    "# Let's define another Pandas Series that contains numeric values (crypto prices) instead of text data\n",
    "# Note that we have int64 datatype which means it contains integer values stored in 64 bits in memory\n",
    "crypto_prices_series"
   ]
  },
  {
   "cell_type": "code",
   "execution_count": 30,
   "metadata": {
    "colab": {
     "base_uri": "https://localhost:8080/"
    },
    "executionInfo": {
     "elapsed": 3116,
     "status": "ok",
     "timestamp": 1618858275069,
     "user": {
      "displayName": "Stemplicity",
      "photoUrl": "https://lh3.googleusercontent.com/a-/AOh14Gj2vCFt-bD5mPBhUWX0QA6xiBgoXQXtwUm2jgjaCg=s64",
      "userId": "10668071569687886186"
     },
     "user_tz": 240
    },
    "id": "ImwFgVASUxLa",
    "outputId": "9f7b7f3b-b8fb-4ebf-e224-fa7c43197d3f"
   },
   "outputs": [
    {
     "data": {
      "text/plain": [
       "2770"
      ]
     },
     "execution_count": 30,
     "metadata": {},
     "output_type": "execute_result"
    }
   ],
   "source": [
    "# Let's obtain the sum of all elements in the Pandas Series\n",
    "crypto_prices_series.sum()"
   ]
  },
  {
   "cell_type": "code",
   "execution_count": 31,
   "metadata": {
    "colab": {
     "base_uri": "https://localhost:8080/"
    },
    "executionInfo": {
     "elapsed": 3100,
     "status": "ok",
     "timestamp": 1618858275071,
     "user": {
      "displayName": "Stemplicity",
      "photoUrl": "https://lh3.googleusercontent.com/a-/AOh14Gj2vCFt-bD5mPBhUWX0QA6xiBgoXQXtwUm2jgjaCg=s64",
      "userId": "10668071569687886186"
     },
     "user_tz": 240
    },
    "id": "OLa69YwxUxOa",
    "outputId": "158234c1-4535-45b8-ae26-677f57238f08"
   },
   "outputs": [
    {
     "data": {
      "text/plain": [
       "200000000000"
      ]
     },
     "execution_count": 31,
     "metadata": {},
     "output_type": "execute_result"
    }
   ],
   "source": [
    "# Let's obtain the multiplication of all elements in the Pandas Series\n",
    "crypto_prices_series.product()"
   ]
  },
  {
   "cell_type": "code",
   "execution_count": 32,
   "metadata": {
    "colab": {
     "base_uri": "https://localhost:8080/"
    },
    "executionInfo": {
     "elapsed": 3079,
     "status": "ok",
     "timestamp": 1618858275072,
     "user": {
      "displayName": "Stemplicity",
      "photoUrl": "https://lh3.googleusercontent.com/a-/AOh14Gj2vCFt-bD5mPBhUWX0QA6xiBgoXQXtwUm2jgjaCg=s64",
      "userId": "10668071569687886186"
     },
     "user_tz": 240
    },
    "id": "xVMJtbtkUxQ-",
    "outputId": "650e2e87-2838-460a-98ae-09d1eb01cdcb"
   },
   "outputs": [
    {
     "data": {
      "text/plain": [
       "554.0"
      ]
     },
     "execution_count": 32,
     "metadata": {},
     "output_type": "execute_result"
    }
   ],
   "source": [
    "# Let's obtain the average\n",
    "crypto_prices_series.mean()"
   ]
  },
  {
   "cell_type": "code",
   "execution_count": 33,
   "metadata": {
    "colab": {
     "base_uri": "https://localhost:8080/"
    },
    "executionInfo": {
     "elapsed": 3069,
     "status": "ok",
     "timestamp": 1618858275073,
     "user": {
      "displayName": "Stemplicity",
      "photoUrl": "https://lh3.googleusercontent.com/a-/AOh14Gj2vCFt-bD5mPBhUWX0QA6xiBgoXQXtwUm2jgjaCg=s64",
      "userId": "10668071569687886186"
     },
     "user_tz": 240
    },
    "id": "FgqSFr98YTUw",
    "outputId": "afaf3e7b-b5c1-4d1c-b99d-dd1bc9af90e3"
   },
   "outputs": [
    {
     "data": {
      "text/plain": [
       "0    200\n",
       "1    500\n",
       "dtype: int64"
      ]
     },
     "execution_count": 33,
     "metadata": {},
     "output_type": "execute_result"
    }
   ],
   "source": [
    "# Let's show the first couple of elements in the Pandas Series\n",
    "crypto_prices_series.head(2)"
   ]
  },
  {
   "cell_type": "code",
   "execution_count": 27,
   "metadata": {
    "colab": {
     "base_uri": "https://localhost:8080/"
    },
    "executionInfo": {
     "elapsed": 3070,
     "status": "ok",
     "timestamp": 1618858275083,
     "user": {
      "displayName": "Stemplicity",
      "photoUrl": "https://lh3.googleusercontent.com/a-/AOh14Gj2vCFt-bD5mPBhUWX0QA6xiBgoXQXtwUm2jgjaCg=s64",
      "userId": "10668071569687886186"
     },
     "user_tz": 240
    },
    "id": "GFoxw41LZrBs",
    "outputId": "3aefbee8-0c98-44f4-a0b1-fd3b8a08899e"
   },
   "outputs": [
    {
     "data": {
      "text/plain": [
       "0     400\n",
       "1     500\n",
       "2    1500\n",
       "dtype: int64"
      ]
     },
     "execution_count": 27,
     "metadata": {},
     "output_type": "execute_result"
    }
   ],
   "source": [
    "# Note that head creates a new dataframe \n"
   ]
  },
  {
   "cell_type": "markdown",
   "metadata": {
    "id": "DHknLT4PTrjn"
   },
   "source": [
    "**MINI CHALLENGE #5:** \n",
    "- **Show the last 2 rows in the Pandas Series (External Research is Required)** \n",
    "- **How many bytes does this Pandas Series consume in memory? (External Research is Required)**"
   ]
  },
  {
   "cell_type": "code",
   "execution_count": 34,
   "metadata": {
    "colab": {
     "base_uri": "https://localhost:8080/"
    },
    "executionInfo": {
     "elapsed": 3063,
     "status": "ok",
     "timestamp": 1618858275085,
     "user": {
      "displayName": "Stemplicity",
      "photoUrl": "https://lh3.googleusercontent.com/a-/AOh14Gj2vCFt-bD5mPBhUWX0QA6xiBgoXQXtwUm2jgjaCg=s64",
      "userId": "10668071569687886186"
     },
     "user_tz": 240
    },
    "id": "UUiOynSPSshX",
    "outputId": "a3eb0c0b-1456-40aa-8fa6-2303e8396fad",
    "scrolled": true
   },
   "outputs": [
    {
     "data": {
      "text/plain": [
       "3    20\n",
       "4    50\n",
       "dtype: int64"
      ]
     },
     "execution_count": 34,
     "metadata": {},
     "output_type": "execute_result"
    }
   ],
   "source": [
    "crypto_prices_series.tail(2)"
   ]
  },
  {
   "cell_type": "code",
   "execution_count": 39,
   "metadata": {},
   "outputs": [
    {
     "data": {
      "text/plain": [
       "168"
      ]
     },
     "execution_count": 39,
     "metadata": {},
     "output_type": "execute_result"
    }
   ],
   "source": [
    "crypto_prices_series.memory_usage()"
   ]
  },
  {
   "cell_type": "markdown",
   "metadata": {
    "id": "vzu3jPDbasz5"
   },
   "source": [
    "# TASK #6. IMPORT CSV DATA (1-D) USING PANDAS"
   ]
  },
  {
   "cell_type": "code",
   "execution_count": 8,
   "metadata": {
    "colab": {
     "base_uri": "https://localhost:8080/",
     "height": 404
    },
    "executionInfo": {
     "elapsed": 3588,
     "status": "error",
     "timestamp": 1618858275613,
     "user": {
      "displayName": "Stemplicity",
      "photoUrl": "https://lh3.googleusercontent.com/a-/AOh14Gj2vCFt-bD5mPBhUWX0QA6xiBgoXQXtwUm2jgjaCg=s64",
      "userId": "10668071569687886186"
     },
     "user_tz": 240
    },
    "id": "zLiVpmH2asz6",
    "outputId": "165b683c-727d-4eee-aab4-be8aee65801c"
   },
   "outputs": [],
   "source": [
    "# Pandas read_csv is used to read a csv file and store data in a DataFrame by default (DataFrames will be covered shortly!)\n",
    "# Use Squeeze to convert it into a Pandas Series (One-dimensional)\n",
    "# Notice that no foramtting exists when a Series is plotted\n",
    "BTC_price_series = pd.read_csv('crypto.csv', squeeze = True)"
   ]
  },
  {
   "cell_type": "code",
   "execution_count": 9,
   "metadata": {
    "executionInfo": {
     "elapsed": 3511,
     "status": "aborted",
     "timestamp": 1618858275545,
     "user": {
      "displayName": "Stemplicity",
      "photoUrl": "https://lh3.googleusercontent.com/a-/AOh14Gj2vCFt-bD5mPBhUWX0QA6xiBgoXQXtwUm2jgjaCg=s64",
      "userId": "10668071569687886186"
     },
     "user_tz": 240
    },
    "id": "Py1fYuPFasz6"
   },
   "outputs": [
    {
     "data": {
      "text/plain": [
       "0         457.334015\n",
       "1         424.440002\n",
       "2         394.795990\n",
       "3         408.903992\n",
       "4         398.821014\n",
       "            ...     \n",
       "2380    55950.746090\n",
       "2381    57750.199220\n",
       "2382    58917.691410\n",
       "2383    58918.832030\n",
       "2384    59095.808590\n",
       "Name: BTC-USD Price, Length: 2385, dtype: float64"
      ]
     },
     "execution_count": 9,
     "metadata": {},
     "output_type": "execute_result"
    }
   ],
   "source": [
    "BTC_price_series"
   ]
  },
  {
   "cell_type": "markdown",
   "metadata": {
    "id": "CykEEAr9S--X"
   },
   "source": [
    "**MINI CHALLENGE #6:**\n",
    "- **Set Squeeze = False and rerun the cell, what do you notice? Use Type to compare both outputs**"
   ]
  },
  {
   "cell_type": "code",
   "execution_count": 10,
   "metadata": {
    "executionInfo": {
     "elapsed": 3511,
     "status": "aborted",
     "timestamp": 1618858275547,
     "user": {
      "displayName": "Stemplicity",
      "photoUrl": "https://lh3.googleusercontent.com/a-/AOh14Gj2vCFt-bD5mPBhUWX0QA6xiBgoXQXtwUm2jgjaCg=s64",
      "userId": "10668071569687886186"
     },
     "user_tz": 240
    },
    "id": "DVEio_JnTArn"
   },
   "outputs": [
    {
     "data": {
      "text/plain": [
       "pandas.core.series.Series"
      ]
     },
     "execution_count": 10,
     "metadata": {},
     "output_type": "execute_result"
    }
   ],
   "source": [
    "type(BTC_price_series)"
   ]
  },
  {
   "cell_type": "markdown",
   "metadata": {
    "id": "8HBGOWjKaK_i"
   },
   "source": [
    "# TASK #7. PANDAS BUILT-IN FUNCTIONS"
   ]
  },
  {
   "cell_type": "code",
   "execution_count": 30,
   "metadata": {
    "executionInfo": {
     "elapsed": 3510,
     "status": "aborted",
     "timestamp": 1618858275548,
     "user": {
      "displayName": "Stemplicity",
      "photoUrl": "https://lh3.googleusercontent.com/a-/AOh14Gj2vCFt-bD5mPBhUWX0QA6xiBgoXQXtwUm2jgjaCg=s64",
      "userId": "10668071569687886186"
     },
     "user_tz": 240
    },
    "id": "-Q-1iWEqaP6y"
   },
   "outputs": [],
   "source": [
    "# Pandas works great with pre-existing python functions \n",
    "# You don't have to play with pandas methods and directly leverage Python functions\n",
    "# Check Python built-in functions here: https://docs.python.org/3/library/functions.html\n"
   ]
  },
  {
   "cell_type": "code",
   "execution_count": 31,
   "metadata": {
    "executionInfo": {
     "elapsed": 3503,
     "status": "aborted",
     "timestamp": 1618858275549,
     "user": {
      "displayName": "Stemplicity",
      "photoUrl": "https://lh3.googleusercontent.com/a-/AOh14Gj2vCFt-bD5mPBhUWX0QA6xiBgoXQXtwUm2jgjaCg=s64",
      "userId": "10668071569687886186"
     },
     "user_tz": 240
    },
    "id": "g759k2IPdVH-"
   },
   "outputs": [
    {
     "data": {
      "text/plain": [
       "pandas.core.series.Series"
      ]
     },
     "execution_count": 31,
     "metadata": {},
     "output_type": "execute_result"
    }
   ],
   "source": [
    "# Obtain the Data Type of the Pandas Series\n"
   ]
  },
  {
   "cell_type": "code",
   "execution_count": 15,
   "metadata": {
    "executionInfo": {
     "elapsed": 3472,
     "status": "aborted",
     "timestamp": 1618858275550,
     "user": {
      "displayName": "Stemplicity",
      "photoUrl": "https://lh3.googleusercontent.com/a-/AOh14Gj2vCFt-bD5mPBhUWX0QA6xiBgoXQXtwUm2jgjaCg=s64",
      "userId": "10668071569687886186"
     },
     "user_tz": 240
    },
    "id": "NbKysqrSaQ32"
   },
   "outputs": [
    {
     "data": {
      "text/plain": [
       "2385"
      ]
     },
     "execution_count": 15,
     "metadata": {},
     "output_type": "execute_result"
    }
   ],
   "source": [
    "# Obtain the length of the Pandas Series\n",
    "BTC_price_series.count()"
   ]
  },
  {
   "cell_type": "code",
   "execution_count": 16,
   "metadata": {
    "executionInfo": {
     "elapsed": 3457,
     "status": "aborted",
     "timestamp": 1618858275551,
     "user": {
      "displayName": "Stemplicity",
      "photoUrl": "https://lh3.googleusercontent.com/a-/AOh14Gj2vCFt-bD5mPBhUWX0QA6xiBgoXQXtwUm2jgjaCg=s64",
      "userId": "10668071569687886186"
     },
     "user_tz": 240
    },
    "id": "FeeA8actaQ6P"
   },
   "outputs": [
    {
     "data": {
      "text/plain": [
       "61243.08594"
      ]
     },
     "execution_count": 16,
     "metadata": {},
     "output_type": "execute_result"
    }
   ],
   "source": [
    "# Obtain the maximum value of the Pandas Series\n",
    "BTC_price_series.max()"
   ]
  },
  {
   "cell_type": "code",
   "execution_count": 17,
   "metadata": {
    "executionInfo": {
     "elapsed": 3469,
     "status": "aborted",
     "timestamp": 1618858275574,
     "user": {
      "displayName": "Stemplicity",
      "photoUrl": "https://lh3.googleusercontent.com/a-/AOh14Gj2vCFt-bD5mPBhUWX0QA6xiBgoXQXtwUm2jgjaCg=s64",
      "userId": "10668071569687886186"
     },
     "user_tz": 240
    },
    "id": "fyhw96-JaQ8a"
   },
   "outputs": [
    {
     "data": {
      "text/plain": [
       "178.1029968"
      ]
     },
     "execution_count": 17,
     "metadata": {},
     "output_type": "execute_result"
    }
   ],
   "source": [
    "# Obtain the minimum value of the Pandas Series\n",
    "BTC_price_series.min()"
   ]
  },
  {
   "cell_type": "markdown",
   "metadata": {
    "id": "NCnRK6oMVCtg"
   },
   "source": [
    "**MINI CHALLENGE #7:**\n",
    "- **Given the following Pandas Series, convert all positive values to negative using python built-in functions**\n",
    "- **Obtain only unique values (ie: Remove duplicates) using python built-in functions**\n",
    "- my_series = pd.Series(data = [-10, 100, -30, 50, 100])\n"
   ]
  },
  {
   "cell_type": "code",
   "execution_count": 20,
   "metadata": {
    "executionInfo": {
     "elapsed": 3467,
     "status": "aborted",
     "timestamp": 1618858275574,
     "user": {
      "displayName": "Stemplicity",
      "photoUrl": "https://lh3.googleusercontent.com/a-/AOh14Gj2vCFt-bD5mPBhUWX0QA6xiBgoXQXtwUm2jgjaCg=s64",
      "userId": "10668071569687886186"
     },
     "user_tz": 240
    },
    "id": "DG-Tjp6PVEpW"
   },
   "outputs": [
    {
     "data": {
      "text/plain": [
       "0        -457.334015\n",
       "1        -424.440002\n",
       "2        -394.795990\n",
       "3        -408.903992\n",
       "4        -398.821014\n",
       "            ...     \n",
       "2380   -55950.746090\n",
       "2381   -57750.199220\n",
       "2382   -58917.691410\n",
       "2383   -58918.832030\n",
       "2384   -59095.808590\n",
       "Name: BTC-USD Price, Length: 2385, dtype: float64"
      ]
     },
     "execution_count": 20,
     "metadata": {},
     "output_type": "execute_result"
    }
   ],
   "source": [
    "BTC_price_series.mul(-1)"
   ]
  },
  {
   "cell_type": "code",
   "execution_count": 22,
   "metadata": {},
   "outputs": [
    {
     "data": {
      "text/plain": [
       "{8192.150391,\n",
       " 8192.494141,\n",
       " 8197.689453,\n",
       " 8200.639648,\n",
       " 8205.167969,\n",
       " 8205.939453,\n",
       " 8205.369141,\n",
       " 8208.995117,\n",
       " 8209.400391,\n",
       " 8206.145508,\n",
       " 32782.02344,\n",
       " 16408.19922,\n",
       " 8218.459961,\n",
       " 8222.078125,\n",
       " 8223.679688,\n",
       " 8228.783203,\n",
       " 8230.923828,\n",
       " 49199.87109,\n",
       " 8243.720703,\n",
       " 8245.915039,\n",
       " 8245.623047,\n",
       " 8247.179688,\n",
       " 8250.969727,\n",
       " 8251.845703,\n",
       " 8253.549805,\n",
       " 8253.69043,\n",
       " 8259.992188,\n",
       " 8265.589844,\n",
       " 8269.80957,\n",
       " 8277.009766,\n",
       " 24664.79102,\n",
       " 16477.59961,\n",
       " 8293.868164,\n",
       " 8294.30957,\n",
       " 8300.860352,\n",
       " 8309.286133,\n",
       " 8319.472656,\n",
       " 8321.756836,\n",
       " 8321.005859,\n",
       " 8329.110352,\n",
       " 8336.555664,\n",
       " 8338.349609,\n",
       " 8343.276367,\n",
       " 8367.847656,\n",
       " 8368.830078,\n",
       " 178.1029968,\n",
       " 57523.421879999994,\n",
       " 16564.0,\n",
       " 8374.686523,\n",
       " 16569.40039,\n",
       " 57539.94531,\n",
       " 199.2599945,\n",
       " 8393.041992,\n",
       " 208.0970001,\n",
       " 209.8439941,\n",
       " 210.3390045,\n",
       " 211.31500240000003,\n",
       " 211.07899480000003,\n",
       " 210.49499509999998,\n",
       " 214.86099240000001,\n",
       " 8406.515625,\n",
       " 217.4640045,\n",
       " 217.11099240000001,\n",
       " 219.1589966,\n",
       " 219.42999269999996,\n",
       " 221.76400759999999,\n",
       " 222.8820038,\n",
       " 222.60000609999997,\n",
       " 222.9259949,\n",
       " 222.88099669999997,\n",
       " 223.8329926,\n",
       " 223.3560028,\n",
       " 224.5870056,\n",
       " 224.6260071,\n",
       " 230.6439972,\n",
       " 224.3240051,\n",
       " 224.95199580000002,\n",
       " 225.8549957,\n",
       " 225.80799869999998,\n",
       " 235.0189972,\n",
       " 235.1439972,\n",
       " 236.9290009,\n",
       " 237.1100006,\n",
       " 236.80200200000002,\n",
       " 236.82299799999998,\n",
       " 237.09599300000002,\n",
       " 237.11599730000003,\n",
       " 237.2830048,\n",
       " 243.5939941,\n",
       " 237.4080048,\n",
       " 237.4700012,\n",
       " 247.27200319999997,\n",
       " 247.52600099999998,\n",
       " 249.0070038,\n",
       " 249.2839966,\n",
       " 250.99000550000002,\n",
       " 249.0110016,\n",
       " 253.6970062,\n",
       " 245.02200319999997,\n",
       " 255.4120026,\n",
       " 255.4920044,\n",
       " 250.8950043,\n",
       " 252.79800419999998,\n",
       " 253.7180023,\n",
       " 260.5979919,\n",
       " 253.8280029,\n",
       " 254.26300049999998,\n",
       " 256.2990112,\n",
       " 257.32101439999997,\n",
       " 260.2019958,\n",
       " 266.2070007,\n",
       " 260.928009,\n",
       " 261.7489929,\n",
       " 269.2279968,\n",
       " 263.4750061,\n",
       " 264.19500730000004,\n",
       " 265.6600037,\n",
       " 267.79599,\n",
       " 267.9599915,\n",
       " 275.8330078,\n",
       " 272.72299189999995,\n",
       " 273.47299189999995,\n",
       " 278.9809875,\n",
       " 278.08898930000004,\n",
       " 274.47399900000005,\n",
       " 274.79599,\n",
       " 275.67001339999996,\n",
       " 276.178009,\n",
       " 276.2609863,\n",
       " 281.0820007,\n",
       " 283.34899900000005,\n",
       " 281.7019958,\n",
       " 285.33700560000005,\n",
       " 286.1889954,\n",
       " 281.88500980000003,\n",
       " 286.39300539999994,\n",
       " 289.60699460000006,\n",
       " 290.4079895,\n",
       " 291.76000980000003,\n",
       " 290.5929871,\n",
       " 294.33700560000005,\n",
       " 294.3540039,\n",
       " 296.37899780000004,\n",
       " 293.11499019999997,\n",
       " 292.05398560000003,\n",
       " 292.6860046,\n",
       " 293.62399289999996,\n",
       " 294.427002,\n",
       " 304.6180115,\n",
       " 8495.780273,\n",
       " 8491.992188,\n",
       " 310.7369995,\n",
       " 311.3959961,\n",
       " 312.67001339999996,\n",
       " 310.8670044,\n",
       " 314.24899289999996,\n",
       " 315.8630066,\n",
       " 315.0320129,\n",
       " 317.8429871,\n",
       " 317.2390137,\n",
       " 319.77600099999995,\n",
       " 320.51000980000003,\n",
       " 320.8429871,\n",
       " 322.5339966,\n",
       " 319.0079956,\n",
       " 320.1929932,\n",
       " 325.74899289999996,\n",
       " 325.8919983,\n",
       " 327.9240112,\n",
       " 327.55398560000003,\n",
       " 328.8659973,\n",
       " 327.0620117,\n",
       " 330.07901,\n",
       " 330.4920044,\n",
       " 329.95599369999996,\n",
       " 331.8859863,\n",
       " 334.571991,\n",
       " 335.5910034,\n",
       " 336.1870117,\n",
       " 338.32101439999997,\n",
       " 339.4859924,\n",
       " 336.8190002,\n",
       " 338.15200810000005,\n",
       " 342.4150085,\n",
       " 336.75299069999994,\n",
       " 335.09399410000003,\n",
       " 345.3450012,\n",
       " 346.36499019999997,\n",
       " 347.37600710000004,\n",
       " 345.30499269999996,\n",
       " 345.4880066,\n",
       " 350.506012,\n",
       " 351.6319885,\n",
       " 352.21899410000003,\n",
       " 352.5419922,\n",
       " 347.2709961,\n",
       " 349.2900085,\n",
       " 350.84799189999995,\n",
       " 352.94000239999997,\n",
       " 352.9890137,\n",
       " 354.70401,\n",
       " 352.92001339999996,\n",
       " 361.9089966,\n",
       " 357.6180115,\n",
       " 358.4169922,\n",
       " 359.5119934,\n",
       " 358.3450012,\n",
       " 361.5620117,\n",
       " 362.2990112,\n",
       " 363.2640076,\n",
       " 365.02600099999995,\n",
       " 366.9240112,\n",
       " 367.69500730000004,\n",
       " 367.572998,\n",
       " 368.36999510000004,\n",
       " 369.67001339999996,\n",
       " 375.0950012,\n",
       " 375.01000980000003,\n",
       " 377.1809998,\n",
       " 375.4670105,\n",
       " 375.4909973,\n",
       " 380.55499269999996,\n",
       " 378.5490112,\n",
       " 376.8540039,\n",
       " 374.7850037,\n",
       " 375.34799189999995,\n",
       " 378.04699710000006,\n",
       " 379.24499510000004,\n",
       " 382.8450012,\n",
       " 383.7579956,\n",
       " 383.1579895,\n",
       " 386.9440002,\n",
       " 386.47500610000003,\n",
       " 387.8819885,\n",
       " 389.54599,\n",
       " 390.41400150000004,\n",
       " 391.4419861,\n",
       " 387.4079895,\n",
       " 394.79599,\n",
       " 394.7730103,\n",
       " 397.8179932,\n",
       " 398.82101439999997,\n",
       " 399.519989,\n",
       " 400.86999510000004,\n",
       " 402.15200810000005,\n",
       " 404.4249878,\n",
       " 403.4169922,\n",
       " 402.9710083,\n",
       " 407.7070007,\n",
       " 407.230011,\n",
       " 409.5480042,\n",
       " 410.4440002,\n",
       " 411.62399289999996,\n",
       " 408.9039917,\n",
       " 413.9719849,\n",
       " 413.75500489999996,\n",
       " 413.3070068,\n",
       " 414.32101439999997,\n",
       " 414.85998539999997,\n",
       " 414.06500239999997,\n",
       " 414.8160095,\n",
       " 416.321991,\n",
       " 416.4379883,\n",
       " 416.82998660000004,\n",
       " 416.3940125,\n",
       " 416.5159912,\n",
       " 417.131012,\n",
       " 417.0109863,\n",
       " 418.08898930000004,\n",
       " 419.41101069999996,\n",
       " 420.78500369999995,\n",
       " 421.65100099999995,\n",
       " 422.3729858,\n",
       " 423.9890137,\n",
       " 424.95498660000004,\n",
       " 425.1900024,\n",
       " 426.7650146000001,\n",
       " 427.3989868,\n",
       " 428.5910034,\n",
       " 429.71301270000004,\n",
       " 430.3059998,\n",
       " 431.9599915,\n",
       " 432.37100219999996,\n",
       " 433.50399780000004,\n",
       " 435.6900024,\n",
       " 435.1229858,\n",
       " 437.7479858,\n",
       " 437.696991,\n",
       " 438.71499630000005,\n",
       " 439.32299800000004,\n",
       " 442.6759949,\n",
       " 450.30398560000003,\n",
       " 443.18798830000003,\n",
       " 444.68701169999997,\n",
       " 453.7829894999999,\n",
       " 450.89498899999995,\n",
       " 455.67099,\n",
       " 447.9760132,\n",
       " 448.3179932,\n",
       " 449.0109863,\n",
       " 451.93798830000003,\n",
       " 453.23001100000005,\n",
       " 454.93399050000005,\n",
       " 454.9849853999999,\n",
       " 456.0780029,\n",
       " 457.3340149,\n",
       " 458.0480041999999,\n",
       " 458.5549927,\n",
       " 461.4259949,\n",
       " 462.321991,\n",
       " 463.6159973,\n",
       " 465.32101439999997,\n",
       " 466.08898930000004,\n",
       " 8659.487305,\n",
       " 473.46398930000004,\n",
       " 8660.700195,\n",
       " 8658.553711,\n",
       " 8668.120117,\n",
       " 49631.24219,\n",
       " 8672.455078,\n",
       " 8673.21582,\n",
       " 8680.875977,\n",
       " 8693.833008,\n",
       " 8706.245117,\n",
       " 57858.921879999994,\n",
       " 8708.094727,\n",
       " 8716.790039,\n",
       " 526.2329712000001,\n",
       " 8719.961914,\n",
       " 530.039978,\n",
       " 531.3859863,\n",
       " 8723.94043,\n",
       " 533.8640137,\n",
       " 8723.786133,\n",
       " 536.9199829,\n",
       " 537.9719848999999,\n",
       " 8728.469727,\n",
       " 8736.980469,\n",
       " 547.4650268999999,\n",
       " 8742.958008,\n",
       " 16936.80078,\n",
       " 8745.894531,\n",
       " 49705.33203,\n",
       " 8755.246094,\n",
       " 8756.430664,\n",
       " 8757.788086,\n",
       " 566.3549805,\n",
       " 567.2399902000001,\n",
       " 569.1939697,\n",
       " 570.4730225,\n",
       " 569.9470215,\n",
       " 572.7269897000001,\n",
       " 573.2160034,\n",
       " 574.9769897000001,\n",
       " 574.6300049,\n",
       " 576.5969848999999,\n",
       " 577.4699707000001,\n",
       " 578.2890014999999,\n",
       " 575.0430298,\n",
       " 577.4390258999999,\n",
       " 581.6450195,\n",
       " 574.3179932,\n",
       " 575.6300049,\n",
       " 581.6970215,\n",
       " 585.5369873,\n",
       " 585.5880127,\n",
       " 587.7780151000001,\n",
       " 587.8010254,\n",
       " 589.1199951,\n",
       " 587.559021,\n",
       " 591.0540161,\n",
       " 592.6900024,\n",
       " 592.1030272999999,\n",
       " 586.7529907,\n",
       " 8784.494141,\n",
       " 596.1160278,\n",
       " 597.1489868,\n",
       " 598.2119751,\n",
       " 596.2979736000001,\n",
       " 600.8259887999999,\n",
       " 8790.919922,\n",
       " 602.84198,\n",
       " 602.625,\n",
       " 604.7280272999999,\n",
       " 605.9840088,\n",
       " 606.7269897000001,\n",
       " 606.2719727000001,\n",
       " 608.6339722,\n",
       " 606.5900268999999,\n",
       " 610.4359741000001,\n",
       " 606.7189941,\n",
       " 608.242981,\n",
       " 609.2410278,\n",
       " 614.5440062999999,\n",
       " 610.684021,\n",
       " 607.1550292999999,\n",
       " 609.8740234,\n",
       " 609.2269897000001,\n",
       " 613.9829712000001,\n",
       " 612.1329956000001,\n",
       " 619.1079712000001,\n",
       " 622.8610229,\n",
       " 623.9769897000001,\n",
       " 624.6810303,\n",
       " 623.5089722,\n",
       " 626.315979,\n",
       " 618.9940186000001,\n",
       " 8813.582031,\n",
       " 629.3670043999999,\n",
       " 630.5200195,\n",
       " 630.8569946,\n",
       " 632.8280029,\n",
       " 8820.522461,\n",
       " 8827.764648,\n",
       " 636.1920166,\n",
       " 636.7860107000001,\n",
       " 638.6459961,\n",
       " 639.8900146000001,\n",
       " 640.5620117000001,\n",
       " 641.0720215,\n",
       " 640.3779907,\n",
       " 641.6309813999999,\n",
       " 639.1929932,\n",
       " 637.960022,\n",
       " 8830.75,\n",
       " 647.0009766,\n",
       " 647.6589966,\n",
       " 649.3599853999999,\n",
       " 650.960022,\n",
       " 650.6190186000001,\n",
       " 651.7839966,\n",
       " 653.7609863,\n",
       " 654.4680176,\n",
       " 655.2750244,\n",
       " 655.5560303,\n",
       " 654.0969848999999,\n",
       " 658.6640014999999,\n",
       " 658.0780029,\n",
       " 660.7670287999999,\n",
       " 661.2849731000001,\n",
       " 654.3519897000001,\n",
       " 663.2550049,\n",
       " 664.5510254,\n",
       " 665.2990112000001,\n",
       " 666.6519775,\n",
       " 665.1229857999999,\n",
       " 666.5230102999999,\n",
       " 665.6849976,\n",
       " 670.6270142000001,\n",
       " 665.0120239,\n",
       " 672.7839966,\n",
       " 673.3369751,\n",
       " 673.1060181,\n",
       " 672.8640137,\n",
       " 676.2960205,\n",
       " 677.3309937000001,\n",
       " 678.3040161,\n",
       " 679.4589844,\n",
       " 8866.0,\n",
       " 8869.669922,\n",
       " 683.6619873,\n",
       " 685.559021,\n",
       " 8879.620117,\n",
       " 688.3129882999999,\n",
       " 689.651001,\n",
       " 688.7000122000001,\n",
       " 694.4689941,\n",
       " 700.9719848999999,\n",
       " 701.8640137,\n",
       " 702.0310059,\n",
       " 703.7020263999999,\n",
       " 704.3759766,\n",
       " 703.2349853999999,\n",
       " 703.4180298,\n",
       " 703.1309813999999,\n",
       " 705.0540161,\n",
       " 709.8480225,\n",
       " 705.0209961,\n",
       " 711.5219727000001,\n",
       " 711.6190186000001,\n",
       " 8897.46875,\n",
       " 714.4790039,\n",
       " 715.5339966,\n",
       " 716.4110107000001,\n",
       " 8909.819336,\n",
       " 8909.954102,\n",
       " 8906.93457,\n",
       " 8912.654297,\n",
       " 8913.469727,\n",
       " 723.2730102999999,\n",
       " 17108.40234,\n",
       " 729.7930298,\n",
       " 731.026001,\n",
       " 732.0349731000001,\n",
       " 8926.570313,\n",
       " 735.382019,\n",
       " 735.8129882999999,\n",
       " 737.2260132,\n",
       " 735.6040039,\n",
       " 739.2479857999999,\n",
       " 740.8289795,\n",
       " 740.9769897000001,\n",
       " 740.2890014999999,\n",
       " 741.6489868,\n",
       " 744.1979980000001,\n",
       " 744.5939941,\n",
       " 745.690979,\n",
       " 8930.879883,\n",
       " 748.9089966,\n",
       " 8942.808594,\n",
       " 751.585022,\n",
       " 751.6160278,\n",
       " 751.3469848999999,\n",
       " 756.2269897000001,\n",
       " 756.7739868,\n",
       " 758.7000122000001,\n",
       " 763.7810059,\n",
       " 764.223999,\n",
       " 766.3079834,\n",
       " 17150.62305,\n",
       " 768.132019,\n",
       " 769.7310181,\n",
       " 770.8099976,\n",
       " 771.1550292999999,\n",
       " 772.7940062999999,\n",
       " 773.8720093,\n",
       " 774.6500244,\n",
       " 33537.17578,\n",
       " 777.9439697,\n",
       " 778.0880127,\n",
       " 777.757019,\n",
       " 780.0869751,\n",
       " 780.5560303,\n",
       " 781.4810181,\n",
       " 784.9069824,\n",
       " 790.8289795,\n",
       " 790.5300292999999,\n",
       " 792.7139892999999,\n",
       " 8987.049805,\n",
       " 8988.59668,\n",
       " 800.8759766,\n",
       " 8994.488281,\n",
       " 804.8339844,\n",
       " 9003.070313,\n",
       " 818.4119873,\n",
       " 821.7979736000001,\n",
       " 823.9840088,\n",
       " 831.5339966,\n",
       " 834.2810059,\n",
       " 9043.94043,\n",
       " 9045.390625,\n",
       " 9055.526367,\n",
       " 864.5399779999999,\n",
       " 9073.942383,\n",
       " 886.6179810000001,\n",
       " 9078.762695,\n",
       " 9081.762695,\n",
       " 9081.761719,\n",
       " 892.6870117000001,\n",
       " 895.026001,\n",
       " 896.1829833999999,\n",
       " 9087.303711,\n",
       " 898.8220215,\n",
       " 899.0729980000001,\n",
       " 901.5419922,\n",
       " 902.2009888,\n",
       " 902.8280028999999,\n",
       " 907.6099854,\n",
       " 908.5850220000001,\n",
       " 907.6790161,\n",
       " 907.9379882999999,\n",
       " 911.1989745999999,\n",
       " 917.5859985,\n",
       " 919.75,\n",
       " 919.4959717,\n",
       " 921.9840088,\n",
       " 921.7890015,\n",
       " 921.0120239,\n",
       " 924.6729736,\n",
       " 921.5900268999999,\n",
       " 920.3820189999999,\n",
       " 9119.009766,\n",
       " 9122.545898,\n",
       " 9123.410156,\n",
       " 933.1979980000001,\n",
       " 937.5200195,\n",
       " 9132.488281,\n",
       " 9132.227539,\n",
       " 9137.993164,\n",
       " 9143.582031,\n",
       " 9151.392578,\n",
       " 961.2379761,\n",
       " 963.7429810000001,\n",
       " 966.7249756000001,\n",
       " 9159.040039,\n",
       " 58313.64453,\n",
       " 970.4030151000001,\n",
       " 9162.917969,\n",
       " 972.7789917000001,\n",
       " 973.4970093000001,\n",
       " 973.8179932,\n",
       " 975.9210205,\n",
       " 9164.231445,\n",
       " 9170.540039,\n",
       " 9174.910156,\n",
       " 988.6740112,\n",
       " 989.0230103,\n",
       " 990.6420287999999,\n",
       " 9180.962891,\n",
       " 9182.577148,\n",
       " 9181.017578,\n",
       " 994.3829956000001,\n",
       " 9185.817383,\n",
       " 998.3250122000002,\n",
       " 999.1810303,\n",
       " 9190.854492,\n",
       " 9192.836914,\n",
       " 9194.849609,\n",
       " 58346.65234,\n",
       " 1004.4500119999999,\n",
       " 1004.5499880000001,\n",
       " 1007.4799800000001,\n",
       " 9199.584961,\n",
       " 1011.7999880000001,\n",
       " 1013.3800050000001,\n",
       " 9205.120117,\n",
       " 9205.726563,\n",
       " 9209.287109,\n",
       " 1021.75,\n",
       " 1026.430054,\n",
       " 1027.339966,\n",
       " 1027.439941,\n",
       " 1029.910034,\n",
       " 17415.40039,\n",
       " 1036.73999,\n",
       " 9228.325195,\n",
       " 1038.150024,\n",
       " 1038.589966,\n",
       " 1039.969971,\n",
       " 1042.900024,\n",
       " 1043.839966,\n",
       " 9235.919922,\n",
       " 1045.77002,\n",
       " 1046.209961,\n",
       " 1047.869995,\n",
       " 1047.150024,\n",
       " 1049.140015,\n",
       " 17429.5,\n",
       " 9240.549805,\n",
       " 9244.972656,\n",
       " 9240.34668,\n",
       " 1054.420044,\n",
       " 1054.22998,\n",
       " 9243.614258,\n",
       " 9243.213867,\n",
       " 9252.277344,\n",
       " 1061.349976,\n",
       " 1063.069946,\n",
       " 9256.148438,\n",
       " 9261.104492,\n",
       " 1071.790039,\n",
       " 9264.813477,\n",
       " 9267.561523,\n",
       " 9268.761719,\n",
       " 9269.987305,\n",
       " 1079.97998,\n",
       " 1080.5,\n",
       " 9273.521484,\n",
       " 9276.5,\n",
       " 9277.967773,\n",
       " 9278.807617,\n",
       " 9281.509766,\n",
       " 9288.018555,\n",
       " 1100.22998,\n",
       " 9293.521484,\n",
       " 219.8390045,\n",
       " 219.18499759999997,\n",
       " 1102.170044,\n",
       " 9303.629883,\n",
       " 221.6089935,\n",
       " 1115.300049,\n",
       " 1116.719971,\n",
       " 222.2660065,\n",
       " 1117.439941,\n",
       " 1120.540039,\n",
       " 9313.610352,\n",
       " 1124.780029,\n",
       " 9316.629883,\n",
       " 9320.352539,\n",
       " 9321.78125,\n",
       " 9324.717773,\n",
       " 225.61900330000003,\n",
       " 1133.25,\n",
       " 9325.179688,\n",
       " 9328.197266,\n",
       " 226.85299680000003,\n",
       " 226.89700319999997,\n",
       " 9330.549805,\n",
       " 9332.34082,\n",
       " 17527.0,\n",
       " 227.2680054,\n",
       " 227.18299869999998,\n",
       " 1143.839966,\n",
       " 1143.810059,\n",
       " 228.57299799999998,\n",
       " 228.4889984,\n",
       " 228.7610016,\n",
       " 1150.0,\n",
       " 9337.549805,\n",
       " 229.80999759999997,\n",
       " 229.2859955,\n",
       " 229.9819946,\n",
       " 1154.72998,\n",
       " 9348.480469,\n",
       " 230.3040009,\n",
       " 230.6179962,\n",
       " 230.19000240000003,\n",
       " 9350.529297,\n",
       " 33922.96094,\n",
       " 231.4929962,\n",
       " 231.2120056,\n",
       " 231.2680054,\n",
       " 1165.199951,\n",
       " 1166.719971,\n",
       " 232.7570038,\n",
       " 232.07899480000003,\n",
       " 232.40199280000002,\n",
       " 232.97500609999997,\n",
       " 1167.540039,\n",
       " 233.54299930000002,\n",
       " 233.51300049999998,\n",
       " 1169.280029,\n",
       " 1172.52002,\n",
       " 1173.680054,\n",
       " 234.92999269999996,\n",
       " 234.0180054,\n",
       " 234.52900699999998,\n",
       " 1175.829956,\n",
       " 1175.949951,\n",
       " 235.42700200000002,\n",
       " 235.35000609999997,\n",
       " 1176.900024,\n",
       " 1179.969971,\n",
       " 1182.680054,\n",
       " 236.05999759999997,\n",
       " 236.55200200000002,\n",
       " 236.4620056,\n",
       " 236.326004,\n",
       " 1187.810059,\n",
       " 237.29299930000002,\n",
       " 237.548996,\n",
       " 237.33399959999997,\n",
       " 1187.869995,\n",
       " 1188.48999,\n",
       " 238.16799930000002,\n",
       " 1193.910034,\n",
       " 1200.369995,\n",
       " 9392.875,\n",
       " 9386.788086,\n",
       " 239.0180054,\n",
       " 9395.009766,\n",
       " 1205.01001,\n",
       " 1207.209961,\n",
       " 240.29600519999997,\n",
       " 240.34800719999998,\n",
       " 240.9530029,\n",
       " 240.1069946,\n",
       " 1210.290039,\n",
       " 241.83200069999998,\n",
       " 241.11199950000002,\n",
       " 1211.670044,\n",
       " 242.798996,\n",
       " 242.3040009,\n",
       " 9412.612305,\n",
       " 1221.380005,\n",
       " 1222.5,\n",
       " 1222.050049,\n",
       " 1223.540039,\n",
       " 243.77900699999998,\n",
       " 243.6069946,\n",
       " 9419.080078,\n",
       " 244.29600519999997,\n",
       " 1229.079956,\n",
       " 33992.42969,\n",
       " 1231.920044,\n",
       " 1231.709961,\n",
       " 245.2120056,\n",
       " 245.30799869999998,\n",
       " 9427.6875,\n",
       " 9428.333008,\n",
       " 1240.0,\n",
       " 247.02900699999998,\n",
       " 9439.124023,\n",
       " 1249.609985,\n",
       " 1250.150024,\n",
       " 1251.01001,\n",
       " 1255.150024,\n",
       " 9450.702148,\n",
       " 17645.40625,\n",
       " 251.9889984,\n",
       " 1265.48999,\n",
       " 1267.119995,\n",
       " 9461.058594,\n",
       " 1272.829956,\n",
       " 253.00500490000002,\n",
       " 253.17999269999996,\n",
       " 1274.98999,\n",
       " 254.32000730000004,\n",
       " 1281.079956,\n",
       " 9475.277344,\n",
       " 9477.641602,\n",
       " 9477.677734,\n",
       " 9480.84375,\n",
       " 256.33599849999996,\n",
       " 9480.254883,\n",
       " 9494.629883,\n",
       " 260.0249939,\n",
       " 260.8859863,\n",
       " 260.99700930000006,\n",
       " 261.5509949,\n",
       " 261.6430054,\n",
       " 1316.47998,\n",
       " 1317.72998,\n",
       " 9510.200195,\n",
       " 9508.993164,\n",
       " 1321.790039,\n",
       " 17706.90039,\n",
       " 263.071991,\n",
       " 9519.145508,\n",
       " 264.0799866,\n",
       " 9522.981445,\n",
       " 9525.750977,\n",
       " 265.0830078,\n",
       " 265.67999269999996,\n",
       " 9527.160156,\n",
       " 9529.803711,\n",
       " 9525.363281,\n",
       " 266.73999019999997,\n",
       " 266.2720032,\n",
       " 17717.41406,\n",
       " 9536.892578,\n",
       " 9538.024414,\n",
       " 1347.890015,\n",
       " 270.3859863,\n",
       " 9552.860352,\n",
       " 9551.714844,\n",
       " 273.0920105,\n",
       " 273.6140137,\n",
       " 274.90100099999995,\n",
       " 274.0230103,\n",
       " 9578.629883,\n",
       " 50538.24219,\n",
       " 276.0490112,\n",
       " 9581.072266,\n",
       " 17776.69922,\n",
       " 8418.990234,\n",
       " 9593.896484,\n",
       " 279.5849915,\n",
       " 9598.173828,\n",
       " 281.2269897,\n",
       " 281.6539917,\n",
       " 9607.423828,\n",
       " 9608.475586,\n",
       " 282.6140137,\n",
       " 17804.00586,\n",
       " 1421.599976,\n",
       " 9613.423828,\n",
       " 283.67999269999996,\n",
       " 8424.269531,\n",
       " 17817.08984,\n",
       " 9629.658203,\n",
       " 9630.664063,\n",
       " 9633.386719,\n",
       " 288.696991,\n",
       " 1452.819946,\n",
       " 9648.717773,\n",
       " 9650.174805,\n",
       " 9653.679688,\n",
       " 9654.799805,\n",
       " 9656.717773,\n",
       " 9663.181641,\n",
       " 9664.730469,\n",
       " 9665.533203,\n",
       " 9670.739258,\n",
       " 9677.113281,\n",
       " 1490.089966,\n",
       " 9686.441406,\n",
       " 9690.142578,\n",
       " 9693.802734,\n",
       " 34269.52344,\n",
       " 9697.5,\n",
       " 9700.759766,\n",
       " 8441.490234,\n",
       " 9700.414063,\n",
       " 17899.69922,\n",
       " 58870.89453,\n",
       " 8445.43457,\n",
       " 9726.575195,\n",
       " 1537.670044,\n",
       " 9729.324219,\n",
       " 9729.801758,\n",
       " 9729.038086,\n",
       " 9733.72168,\n",
       " 34316.38672,\n",
       " 9743.860352,\n",
       " 1555.449951,\n",
       " 9754.422852,\n",
       " 9757.970703,\n",
       " 9758.852539,\n",
       " 58917.69141,\n",
       " 58918.83203,\n",
       " 313.855011,\n",
       " 1578.800049,\n",
       " 9771.489258,\n",
       " 1596.709961,\n",
       " 9795.943359,\n",
       " 9795.700195,\n",
       " 9800.636719,\n",
       " 9811.925781,\n",
       " 322.0220032,\n",
       " 9813.070313,\n",
       " 9818.349609,\n",
       " 325.4309998,\n",
       " 326.927002,\n",
       " 9842.666016,\n",
       " 330.75100710000004,\n",
       " 9856.611328,\n",
       " 9858.150391,\n",
       " 332.90600589999997,\n",
       " 9865.119141,\n",
       " 18058.9043,\n",
       " 9870.303711,\n",
       " 9870.094727,\n",
       " 9888.610352,\n",
       " 9889.424805,\n",
       " 26272.29492,\n",
       " 9900.767578,\n",
       " 9905.166992,\n",
       " 9911.841797,\n",
       " 16624.59961,\n",
       " 1723.3499760000002,\n",
       " 1724.2399899999998,\n",
       " 9924.515625,\n",
       " 1734.449951,\n",
       " 8486.993164,\n",
       " 1738.430054,\n",
       " 9934.433594,\n",
       " 59095.80859,\n",
       " 1755.359985,\n",
       " 9951.518555,\n",
       " 9965.570313,\n",
       " 1787.130005,\n",
       " 18177.48438,\n",
       " 358.0419922,\n",
       " 1804.910034,\n",
       " 1808.910034,\n",
       " 10005.0,\n",
       " 8504.889648,\n",
       " 363.1830139,\n",
       " 10019.7168,\n",
       " 1839.089966,\n",
       " 1848.569946,\n",
       " 8510.379883,\n",
       " 369.9490051,\n",
       " 10051.7041,\n",
       " 26437.03711,\n",
       " 10058.7998,\n",
       " 8513.25,\n",
       " 373.0559998,\n",
       " 373.446991,\n",
       " 10070.39258,\n",
       " 18264.99219,\n",
       " 374.447998,\n",
       " 375.071991,\n",
       " 375.197998,\n",
       " 1888.6500239999998,\n",
       " 376.90100099999995,\n",
       " 376.446991,\n",
       " 376.5220032,\n",
       " 376.0289917,\n",
       " 10085.62793,\n",
       " 377.32101439999997,\n",
       " 379.47399900000005,\n",
       " 379.6539917,\n",
       " 380.28900150000004,\n",
       " 10106.2998,\n",
       " 382.5559998,\n",
       " 382.2990112,\n",
       " 10115.97559,\n",
       " 10116.67383,\n",
       " 383.61499019999997,\n",
       " 1929.819946,\n",
       " 384.2630005,\n",
       " 18321.14453,\n",
       " 10131.05566,\n",
       " 10131.5166,\n",
       " 386.5490112,\n",
       " 10138.0498,\n",
       " 10138.51758,\n",
       " 387.1679993,\n",
       " ...}"
      ]
     },
     "execution_count": 22,
     "metadata": {},
     "output_type": "execute_result"
    }
   ],
   "source": [
    "set(BTC_price_series)"
   ]
  },
  {
   "cell_type": "code",
   "execution_count": 21,
   "metadata": {},
   "outputs": [
    {
     "data": {
      "text/plain": [
       "0         457.334015\n",
       "1         424.440002\n",
       "2         394.795990\n",
       "3         408.903992\n",
       "4         398.821014\n",
       "            ...     \n",
       "2380    55950.746090\n",
       "2381    57750.199220\n",
       "2382    58917.691410\n",
       "2383    58918.832030\n",
       "2384    59095.808590\n",
       "Name: BTC-USD Price, Length: 2382, dtype: float64"
      ]
     },
     "execution_count": 21,
     "metadata": {},
     "output_type": "execute_result"
    }
   ],
   "source": [
    "BTC_price_series.drop_duplicates()"
   ]
  },
  {
   "cell_type": "markdown",
   "metadata": {
    "id": "LKDuJ94RvB85"
   },
   "source": [
    "# TASK #8. SORTING PANDAS SERIES"
   ]
  },
  {
   "cell_type": "code",
   "execution_count": 35,
   "metadata": {
    "executionInfo": {
     "elapsed": 3456,
     "status": "aborted",
     "timestamp": 1618858275575,
     "user": {
      "displayName": "Stemplicity",
      "photoUrl": "https://lh3.googleusercontent.com/a-/AOh14Gj2vCFt-bD5mPBhUWX0QA6xiBgoXQXtwUm2jgjaCg=s64",
      "userId": "10668071569687886186"
     },
     "user_tz": 240
    },
    "id": "f-aRTmn9u7DA"
   },
   "outputs": [
    {
     "data": {
      "text/plain": [
       "0         457.334015\n",
       "1         424.440002\n",
       "2         394.795990\n",
       "3         408.903992\n",
       "4         398.821014\n",
       "            ...     \n",
       "2380    55950.746090\n",
       "2381    57750.199220\n",
       "2382    58917.691410\n",
       "2383    58918.832030\n",
       "2384    59095.808590\n",
       "Name: BTC-USD Price, Length: 2385, dtype: float64"
      ]
     },
     "execution_count": 35,
     "metadata": {},
     "output_type": "execute_result"
    }
   ],
   "source": [
    "# Let's import CSV data as follows:\n"
   ]
  },
  {
   "cell_type": "code",
   "execution_count": 23,
   "metadata": {
    "executionInfo": {
     "elapsed": 3446,
     "status": "aborted",
     "timestamp": 1618858275575,
     "user": {
      "displayName": "Stemplicity",
      "photoUrl": "https://lh3.googleusercontent.com/a-/AOh14Gj2vCFt-bD5mPBhUWX0QA6xiBgoXQXtwUm2jgjaCg=s64",
      "userId": "10668071569687886186"
     },
     "user_tz": 240
    },
    "id": "DaglhPNevFYC"
   },
   "outputs": [
    {
     "data": {
      "text/plain": [
       "119       178.102997\n",
       "122       199.259995\n",
       "121       208.097000\n",
       "120       209.843994\n",
       "123       210.339004\n",
       "            ...     \n",
       "2382    58917.691410\n",
       "2383    58918.832030\n",
       "2384    59095.808590\n",
       "2366    59302.316410\n",
       "2365    61243.085940\n",
       "Name: BTC-USD Price, Length: 2385, dtype: float64"
      ]
     },
     "execution_count": 23,
     "metadata": {},
     "output_type": "execute_result"
    }
   ],
   "source": [
    "# You can sort the values in the dataframe as follows\n",
    "BTC_price_series.sort_values()"
   ]
  },
  {
   "cell_type": "code",
   "execution_count": 37,
   "metadata": {
    "executionInfo": {
     "elapsed": 3438,
     "status": "aborted",
     "timestamp": 1618858275576,
     "user": {
      "displayName": "Stemplicity",
      "photoUrl": "https://lh3.googleusercontent.com/a-/AOh14Gj2vCFt-bD5mPBhUWX0QA6xiBgoXQXtwUm2jgjaCg=s64",
      "userId": "10668071569687886186"
     },
     "user_tz": 240
    },
    "id": "AjzLtDlevFaW"
   },
   "outputs": [
    {
     "data": {
      "text/plain": [
       "0         457.334015\n",
       "1         424.440002\n",
       "2         394.795990\n",
       "3         408.903992\n",
       "4         398.821014\n",
       "            ...     \n",
       "2380    55950.746090\n",
       "2381    57750.199220\n",
       "2382    58917.691410\n",
       "2383    58918.832030\n",
       "2384    59095.808590\n",
       "Name: BTC-USD Price, Length: 2385, dtype: float64"
      ]
     },
     "execution_count": 37,
     "metadata": {},
     "output_type": "execute_result"
    }
   ],
   "source": [
    "# Let's view Pandas Series again after sorting, Note that nothing changed in memory! you have to make sure that inplace is set to True\n"
   ]
  },
  {
   "cell_type": "code",
   "execution_count": 24,
   "metadata": {
    "executionInfo": {
     "elapsed": 3436,
     "status": "aborted",
     "timestamp": 1618858275576,
     "user": {
      "displayName": "Stemplicity",
      "photoUrl": "https://lh3.googleusercontent.com/a-/AOh14Gj2vCFt-bD5mPBhUWX0QA6xiBgoXQXtwUm2jgjaCg=s64",
      "userId": "10668071569687886186"
     },
     "user_tz": 240
    },
    "id": "Pgt25eXmvFce"
   },
   "outputs": [],
   "source": [
    "# Set inplace = True to ensure that change has taken place in memory \n",
    "BTC_price_series.sort_values(inplace=True)"
   ]
  },
  {
   "cell_type": "code",
   "execution_count": 25,
   "metadata": {
    "executionInfo": {
     "elapsed": 3426,
     "status": "aborted",
     "timestamp": 1618858275577,
     "user": {
      "displayName": "Stemplicity",
      "photoUrl": "https://lh3.googleusercontent.com/a-/AOh14Gj2vCFt-bD5mPBhUWX0QA6xiBgoXQXtwUm2jgjaCg=s64",
      "userId": "10668071569687886186"
     },
     "user_tz": 240
    },
    "id": "jEw2Gw_hu7Fo"
   },
   "outputs": [
    {
     "data": {
      "text/plain": [
       "119       178.102997\n",
       "122       199.259995\n",
       "121       208.097000\n",
       "120       209.843994\n",
       "123       210.339004\n",
       "            ...     \n",
       "2382    58917.691410\n",
       "2383    58918.832030\n",
       "2384    59095.808590\n",
       "2366    59302.316410\n",
       "2365    61243.085940\n",
       "Name: BTC-USD Price, Length: 2385, dtype: float64"
      ]
     },
     "execution_count": 25,
     "metadata": {},
     "output_type": "execute_result"
    }
   ],
   "source": [
    "# Note that now the change (ordering) took place \n",
    "BTC_price_series"
   ]
  },
  {
   "cell_type": "code",
   "execution_count": 26,
   "metadata": {
    "executionInfo": {
     "elapsed": 3410,
     "status": "aborted",
     "timestamp": 1618858275578,
     "user": {
      "displayName": "Stemplicity",
      "photoUrl": "https://lh3.googleusercontent.com/a-/AOh14Gj2vCFt-bD5mPBhUWX0QA6xiBgoXQXtwUm2jgjaCg=s64",
      "userId": "10668071569687886186"
     },
     "user_tz": 240
    },
    "id": "6wi0QnU5iGk8"
   },
   "outputs": [],
   "source": [
    "# Notice that the indexes are now changed \n",
    "# You can also sort by index (revert back to the original Pandas Series) as follows: \n",
    "BTC_price_series.sort_index(inplace=True)"
   ]
  },
  {
   "cell_type": "markdown",
   "metadata": {
    "id": "7bV_Yaq46ZTg"
   },
   "source": [
    "**MINI CHALLENGE #8:**\n",
    "- **Sort the BTC_price_series values in a decending order instead. Make sure to update values in-memory.**"
   ]
  },
  {
   "cell_type": "code",
   "execution_count": 27,
   "metadata": {
    "executionInfo": {
     "elapsed": 3408,
     "status": "aborted",
     "timestamp": 1618858275578,
     "user": {
      "displayName": "Stemplicity",
      "photoUrl": "https://lh3.googleusercontent.com/a-/AOh14Gj2vCFt-bD5mPBhUWX0QA6xiBgoXQXtwUm2jgjaCg=s64",
      "userId": "10668071569687886186"
     },
     "user_tz": 240
    },
    "id": "zw0acoYEkDJB"
   },
   "outputs": [
    {
     "data": {
      "text/plain": [
       "2365    61243.085940\n",
       "2366    59302.316410\n",
       "2384    59095.808590\n",
       "2383    58918.832030\n",
       "2382    58917.691410\n",
       "            ...     \n",
       "123       210.339004\n",
       "120       209.843994\n",
       "121       208.097000\n",
       "122       199.259995\n",
       "119       178.102997\n",
       "Name: BTC-USD Price, Length: 2385, dtype: float64"
      ]
     },
     "execution_count": 27,
     "metadata": {},
     "output_type": "execute_result"
    }
   ],
   "source": [
    "BTC_price_series.sort_values(ascending=False)"
   ]
  },
  {
   "cell_type": "markdown",
   "metadata": {
    "id": "1QT7bBFCkDhh"
   },
   "source": [
    "# TASK #9. PERFORM MATH OPERATIONS ON PANDAS SERIES"
   ]
  },
  {
   "cell_type": "code",
   "execution_count": 41,
   "metadata": {
    "executionInfo": {
     "elapsed": 3400,
     "status": "aborted",
     "timestamp": 1618858275579,
     "user": {
      "displayName": "Stemplicity",
      "photoUrl": "https://lh3.googleusercontent.com/a-/AOh14Gj2vCFt-bD5mPBhUWX0QA6xiBgoXQXtwUm2jgjaCg=s64",
      "userId": "10668071569687886186"
     },
     "user_tz": 240
    },
    "id": "UXFGCV4SkI4O"
   },
   "outputs": [
    {
     "data": {
      "text/plain": [
       "0         457.334015\n",
       "1         424.440002\n",
       "2         394.795990\n",
       "3         408.903992\n",
       "4         398.821014\n",
       "            ...     \n",
       "2380    55950.746090\n",
       "2381    57750.199220\n",
       "2382    58917.691410\n",
       "2383    58918.832030\n",
       "2384    59095.808590\n",
       "Name: BTC-USD Price, Length: 2385, dtype: float64"
      ]
     },
     "execution_count": 41,
     "metadata": {},
     "output_type": "execute_result"
    }
   ],
   "source": [
    "# Let's import CSV data as follows:\n"
   ]
  },
  {
   "cell_type": "code",
   "execution_count": 28,
   "metadata": {
    "executionInfo": {
     "elapsed": 3391,
     "status": "aborted",
     "timestamp": 1618858275579,
     "user": {
      "displayName": "Stemplicity",
      "photoUrl": "https://lh3.googleusercontent.com/a-/AOh14Gj2vCFt-bD5mPBhUWX0QA6xiBgoXQXtwUm2jgjaCg=s64",
      "userId": "10668071569687886186"
     },
     "user_tz": 240
    },
    "id": "Qpo7M9yYkJPQ"
   },
   "outputs": [
    {
     "data": {
      "text/plain": [
       "15435379.738852698"
      ]
     },
     "execution_count": 28,
     "metadata": {},
     "output_type": "execute_result"
    }
   ],
   "source": [
    "# Apply Sum Method on Pandas Series\n",
    "BTC_price_series.sum()"
   ]
  },
  {
   "cell_type": "code",
   "execution_count": 29,
   "metadata": {
    "executionInfo": {
     "elapsed": 3383,
     "status": "aborted",
     "timestamp": 1618858275580,
     "user": {
      "displayName": "Stemplicity",
      "photoUrl": "https://lh3.googleusercontent.com/a-/AOh14Gj2vCFt-bD5mPBhUWX0QA6xiBgoXQXtwUm2jgjaCg=s64",
      "userId": "10668071569687886186"
     },
     "user_tz": 240
    },
    "id": "FTSaQpjokJSM"
   },
   "outputs": [
    {
     "data": {
      "text/plain": [
       "2385"
      ]
     },
     "execution_count": 29,
     "metadata": {},
     "output_type": "execute_result"
    }
   ],
   "source": [
    "# Apply count Method on Pandas Series\n",
    "BTC_price_series.count()"
   ]
  },
  {
   "cell_type": "code",
   "execution_count": 30,
   "metadata": {
    "executionInfo": {
     "elapsed": 3374,
     "status": "aborted",
     "timestamp": 1618858275580,
     "user": {
      "displayName": "Stemplicity",
      "photoUrl": "https://lh3.googleusercontent.com/a-/AOh14Gj2vCFt-bD5mPBhUWX0QA6xiBgoXQXtwUm2jgjaCg=s64",
      "userId": "10668071569687886186"
     },
     "user_tz": 240
    },
    "id": "I8vVnB_5kj7C"
   },
   "outputs": [
    {
     "data": {
      "text/plain": [
       "61243.08594"
      ]
     },
     "execution_count": 30,
     "metadata": {},
     "output_type": "execute_result"
    }
   ],
   "source": [
    "# Obtain the maximum value\n",
    "BTC_price_series.max()"
   ]
  },
  {
   "cell_type": "code",
   "execution_count": 31,
   "metadata": {
    "executionInfo": {
     "elapsed": 3366,
     "status": "aborted",
     "timestamp": 1618858275581,
     "user": {
      "displayName": "Stemplicity",
      "photoUrl": "https://lh3.googleusercontent.com/a-/AOh14Gj2vCFt-bD5mPBhUWX0QA6xiBgoXQXtwUm2jgjaCg=s64",
      "userId": "10668071569687886186"
     },
     "user_tz": 240
    },
    "id": "u3-XBu-vko2y"
   },
   "outputs": [
    {
     "data": {
      "text/plain": [
       "178.1029968"
      ]
     },
     "execution_count": 31,
     "metadata": {},
     "output_type": "execute_result"
    }
   ],
   "source": [
    "# Obtain the minimum value\n",
    "BTC_price_series.min()"
   ]
  },
  {
   "cell_type": "code",
   "execution_count": 32,
   "metadata": {
    "executionInfo": {
     "elapsed": 3357,
     "status": "aborted",
     "timestamp": 1618858275582,
     "user": {
      "displayName": "Stemplicity",
      "photoUrl": "https://lh3.googleusercontent.com/a-/AOh14Gj2vCFt-bD5mPBhUWX0QA6xiBgoXQXtwUm2jgjaCg=s64",
      "userId": "10668071569687886186"
     },
     "user_tz": 240
    },
    "id": "jfaK3BsckvAK"
   },
   "outputs": [
    {
     "data": {
      "text/plain": [
       "count     2385.000000\n",
       "mean      6471.857333\n",
       "std       9289.022505\n",
       "min        178.102997\n",
       "25%        454.618988\n",
       "50%       4076.632568\n",
       "75%       8864.766602\n",
       "max      61243.085940\n",
       "Name: BTC-USD Price, dtype: float64"
      ]
     },
     "execution_count": 32,
     "metadata": {},
     "output_type": "execute_result"
    }
   ],
   "source": [
    "# My favourite: Describe! \n",
    "# Describe is used to obtain all statistical information in one place \n",
    "BTC_price_series.describe()"
   ]
  },
  {
   "cell_type": "markdown",
   "metadata": {
    "id": "wfpnZiwxk1cb"
   },
   "source": [
    "**MINI CHALLENGE #9:**\n",
    "- **Obtain the average price of the BTC_price_series using two different methods**"
   ]
  },
  {
   "cell_type": "code",
   "execution_count": 33,
   "metadata": {
    "executionInfo": {
     "elapsed": 3355,
     "status": "aborted",
     "timestamp": 1618858275582,
     "user": {
      "displayName": "Stemplicity",
      "photoUrl": "https://lh3.googleusercontent.com/a-/AOh14Gj2vCFt-bD5mPBhUWX0QA6xiBgoXQXtwUm2jgjaCg=s64",
      "userId": "10668071569687886186"
     },
     "user_tz": 240
    },
    "id": "MFL9i8NWlIH5"
   },
   "outputs": [
    {
     "data": {
      "text/plain": [
       "6471.857332852284"
      ]
     },
     "execution_count": 33,
     "metadata": {},
     "output_type": "execute_result"
    }
   ],
   "source": [
    "BTC_price_series.mean()"
   ]
  },
  {
   "cell_type": "markdown",
   "metadata": {
    "id": "Yi8uUb_eiqxo"
   },
   "source": [
    "# TASK #10. CHECK IF A GIVEN ELEMENT EXISTS IN A PANDAS SERIES"
   ]
  },
  {
   "cell_type": "code",
   "execution_count": 47,
   "metadata": {
    "executionInfo": {
     "elapsed": 3347,
     "status": "aborted",
     "timestamp": 1618858275583,
     "user": {
      "displayName": "Stemplicity",
      "photoUrl": "https://lh3.googleusercontent.com/a-/AOh14Gj2vCFt-bD5mPBhUWX0QA6xiBgoXQXtwUm2jgjaCg=s64",
      "userId": "10668071569687886186"
     },
     "user_tz": 240
    },
    "id": "nEQ94a2RiuiR"
   },
   "outputs": [
    {
     "data": {
      "text/plain": [
       "0         457.334015\n",
       "1         424.440002\n",
       "2         394.795990\n",
       "3         408.903992\n",
       "4         398.821014\n",
       "            ...     \n",
       "2380    55950.746090\n",
       "2381    57750.199220\n",
       "2382    58917.691410\n",
       "2383    58918.832030\n",
       "2384    59095.808590\n",
       "Name: BTC-USD Price, Length: 2385, dtype: float64"
      ]
     },
     "execution_count": 47,
     "metadata": {},
     "output_type": "execute_result"
    }
   ],
   "source": [
    "# Let's import CSV data as follows:\n"
   ]
  },
  {
   "cell_type": "code",
   "execution_count": 34,
   "metadata": {
    "executionInfo": {
     "elapsed": 3339,
     "status": "aborted",
     "timestamp": 1618858275584,
     "user": {
      "displayName": "Stemplicity",
      "photoUrl": "https://lh3.googleusercontent.com/a-/AOh14Gj2vCFt-bD5mPBhUWX0QA6xiBgoXQXtwUm2jgjaCg=s64",
      "userId": "10668071569687886186"
     },
     "user_tz": 240
    },
    "id": "x0T4h0CWi-p7"
   },
   "outputs": [
    {
     "data": {
      "text/plain": [
       "False"
      ]
     },
     "execution_count": 34,
     "metadata": {},
     "output_type": "execute_result"
    }
   ],
   "source": [
    "# Check if a given number exists in a Pandas Series values\n",
    "# Returns a boolean \"True\" or \"False\"\n",
    "1295.5 in BTC_price_series"
   ]
  },
  {
   "cell_type": "code",
   "execution_count": 35,
   "metadata": {
    "executionInfo": {
     "elapsed": 3323,
     "status": "aborted",
     "timestamp": 1618858275584,
     "user": {
      "displayName": "Stemplicity",
      "photoUrl": "https://lh3.googleusercontent.com/a-/AOh14Gj2vCFt-bD5mPBhUWX0QA6xiBgoXQXtwUm2jgjaCg=s64",
      "userId": "10668071569687886186"
     },
     "user_tz": 240
    },
    "id": "xa7GXwbhi-sh"
   },
   "outputs": [
    {
     "data": {
      "text/plain": [
       "True"
      ]
     },
     "execution_count": 35,
     "metadata": {},
     "output_type": "execute_result"
    }
   ],
   "source": [
    "# Check if a given number exists in a Pandas Series index\n",
    "1295 in BTC_price_series.index"
   ]
  },
  {
   "cell_type": "code",
   "execution_count": 50,
   "metadata": {
    "executionInfo": {
     "elapsed": 3317,
     "status": "aborted",
     "timestamp": 1618858275587,
     "user": {
      "displayName": "Stemplicity",
      "photoUrl": "https://lh3.googleusercontent.com/a-/AOh14Gj2vCFt-bD5mPBhUWX0QA6xiBgoXQXtwUm2jgjaCg=s64",
      "userId": "10668071569687886186"
     },
     "user_tz": 240
    },
    "id": "GyN5iG1ki-vC"
   },
   "outputs": [
    {
     "data": {
      "text/plain": [
       "True"
      ]
     },
     "execution_count": 50,
     "metadata": {},
     "output_type": "execute_result"
    }
   ],
   "source": [
    "# Note that by default 'in' will search in Pandas index and not values\n"
   ]
  },
  {
   "cell_type": "markdown",
   "metadata": {
    "id": "DjNoVv5vb9ij"
   },
   "source": [
    "**MINI CHALLENGE #10:**\n",
    "- **Check if the stock price 399 exists in the BTC_price_series Pandas Series or not**\n",
    "- **Round stock prices to the nearest integer and check again**"
   ]
  },
  {
   "cell_type": "code",
   "execution_count": 36,
   "metadata": {
    "executionInfo": {
     "elapsed": 3315,
     "status": "aborted",
     "timestamp": 1618858275588,
     "user": {
      "displayName": "Stemplicity",
      "photoUrl": "https://lh3.googleusercontent.com/a-/AOh14Gj2vCFt-bD5mPBhUWX0QA6xiBgoXQXtwUm2jgjaCg=s64",
      "userId": "10668071569687886186"
     },
     "user_tz": 240
    },
    "id": "3BYcu1gpb_Vo"
   },
   "outputs": [
    {
     "data": {
      "text/plain": [
       "False"
      ]
     },
     "execution_count": 36,
     "metadata": {},
     "output_type": "execute_result"
    }
   ],
   "source": [
    "399 in BTC_price_series.values"
   ]
  },
  {
   "cell_type": "code",
   "execution_count": 38,
   "metadata": {},
   "outputs": [
    {
     "data": {
      "text/plain": [
       "True"
      ]
     },
     "execution_count": 38,
     "metadata": {},
     "output_type": "execute_result"
    }
   ],
   "source": [
    "399 in BTC_price_series.values.round()"
   ]
  },
  {
   "cell_type": "markdown",
   "metadata": {
    "id": "i1gJS3K7vlxd"
   },
   "source": [
    "# EXCELLENT JOB!"
   ]
  },
  {
   "cell_type": "markdown",
   "metadata": {
    "id": "MF2SdJZ_vn4z"
   },
   "source": [
    "# MINI CHALLENGE SOLUTIONS"
   ]
  },
  {
   "cell_type": "markdown",
   "metadata": {
    "id": "08v_y7IaJrvt"
   },
   "source": [
    "**MINI CHALLENGE #1 SOLUTION:**\n",
    "- **Define a Pandas Series named \"my_series\" that contains your top 3 favourite stocks. Confirm the datatype of \"my_series\"**"
   ]
  },
  {
   "cell_type": "code",
   "execution_count": 51,
   "metadata": {
    "executionInfo": {
     "elapsed": 3234,
     "status": "aborted",
     "timestamp": 1618858275593,
     "user": {
      "displayName": "Stemplicity",
      "photoUrl": "https://lh3.googleusercontent.com/a-/AOh14Gj2vCFt-bD5mPBhUWX0QA6xiBgoXQXtwUm2jgjaCg=s64",
      "userId": "10668071569687886186"
     },
     "user_tz": 240
    },
    "id": "syn8_3JiJrvt"
   },
   "outputs": [
    {
     "data": {
      "text/plain": [
       "0    Facebook\n",
       "1       Apple\n",
       "2      Nvidia\n",
       "dtype: object"
      ]
     },
     "execution_count": 51,
     "metadata": {},
     "output_type": "execute_result"
    }
   ],
   "source": [
    "# Let's define a Python list that contains 3 top stocks\n",
    "my_list = ['Facebook','Apple','Nvidia'] \n",
    "my_series = pd.Series(data = my_list) \n",
    "my_series"
   ]
  },
  {
   "cell_type": "code",
   "execution_count": 52,
   "metadata": {
    "executionInfo": {
     "elapsed": 3225,
     "status": "aborted",
     "timestamp": 1618858275593,
     "user": {
      "displayName": "Stemplicity",
      "photoUrl": "https://lh3.googleusercontent.com/a-/AOh14Gj2vCFt-bD5mPBhUWX0QA6xiBgoXQXtwUm2jgjaCg=s64",
      "userId": "10668071569687886186"
     },
     "user_tz": 240
    },
    "id": "12MuwJ5eJrvu"
   },
   "outputs": [
    {
     "data": {
      "text/plain": [
       "pandas.core.series.Series"
      ]
     },
     "execution_count": 52,
     "metadata": {},
     "output_type": "execute_result"
    }
   ],
   "source": [
    "type(my_series)"
   ]
  },
  {
   "cell_type": "markdown",
   "metadata": {
    "id": "1x6d0qzMKg-A"
   },
   "source": [
    "**MINI CHALLENGE #2 SOLUTION:**\n",
    "- **Define a Pandas Series named \"my_series\" that contains your top 3 favourite stocks. Instead of using default numeric indexes (similar to mini challenge #1), use the following indexes \"stock #1\", \"stock #2\", and \"stock #3\"**"
   ]
  },
  {
   "cell_type": "code",
   "execution_count": 53,
   "metadata": {
    "executionInfo": {
     "elapsed": 3223,
     "status": "aborted",
     "timestamp": 1618858275594,
     "user": {
      "displayName": "Stemplicity",
      "photoUrl": "https://lh3.googleusercontent.com/a-/AOh14Gj2vCFt-bD5mPBhUWX0QA6xiBgoXQXtwUm2jgjaCg=s64",
      "userId": "10668071569687886186"
     },
     "user_tz": 240
    },
    "id": "ddjSNsHBK-ll"
   },
   "outputs": [],
   "source": [
    "# Let's define a Python list that contains 3 stocks as follows\n",
    "my_list = ['Facebook','Apple','Nvidia'] \n",
    "\n",
    "# Let's define a python list as shown below. This python list will be used for the Series index:\n",
    "my_labels = ['stock #1', 'stock #2', 'stock #3']\n"
   ]
  },
  {
   "cell_type": "code",
   "execution_count": 54,
   "metadata": {
    "executionInfo": {
     "elapsed": 3216,
     "status": "aborted",
     "timestamp": 1618858275595,
     "user": {
      "displayName": "Stemplicity",
      "photoUrl": "https://lh3.googleusercontent.com/a-/AOh14Gj2vCFt-bD5mPBhUWX0QA6xiBgoXQXtwUm2jgjaCg=s64",
      "userId": "10668071569687886186"
     },
     "user_tz": 240
    },
    "id": "4iNEgSEtK8kl"
   },
   "outputs": [
    {
     "data": {
      "text/plain": [
       "stock #1    Facebook\n",
       "stock #2       Apple\n",
       "stock #3      Nvidia\n",
       "dtype: object"
      ]
     },
     "execution_count": 54,
     "metadata": {},
     "output_type": "execute_result"
    }
   ],
   "source": [
    "# Let's create a one dimensional Pandas \"series\" \n",
    "# Let's use Pandas Constructor Method to create a series from a Python list\n",
    "# Note that this series is formed of data and associated labels \n",
    "my_series = pd.Series(data = my_list, index = my_labels)\n",
    "my_series"
   ]
  },
  {
   "cell_type": "markdown",
   "metadata": {
    "id": "r6btEnxmMy_G"
   },
   "source": [
    "**MINI CHALLENGE #3 SOLUTION:**\n",
    "- **Create a Pandas Series from a dictionary with 3 of your favourite stocks and their corresponding prices** \n"
   ]
  },
  {
   "cell_type": "code",
   "execution_count": 55,
   "metadata": {
    "executionInfo": {
     "elapsed": 3207,
     "status": "aborted",
     "timestamp": 1618858275596,
     "user": {
      "displayName": "Stemplicity",
      "photoUrl": "https://lh3.googleusercontent.com/a-/AOh14Gj2vCFt-bD5mPBhUWX0QA6xiBgoXQXtwUm2jgjaCg=s64",
      "userId": "10668071569687886186"
     },
     "user_tz": 240
    },
    "id": "PzkBjyLHM7Do"
   },
   "outputs": [
    {
     "name": "stdout",
     "output_type": "stream",
     "text": [
      "{'Facebook': 3000, 'Apple': 400, 'Nvidia': 2200}\n"
     ]
    }
   ],
   "source": [
    "stocks = {'Facebook': 3000, \n",
    "          'Apple'   : 400,\n",
    "          'Nvidia'  : 2200}\n",
    "print(stocks)"
   ]
  },
  {
   "cell_type": "code",
   "execution_count": 56,
   "metadata": {
    "executionInfo": {
     "elapsed": 3198,
     "status": "aborted",
     "timestamp": 1618858275596,
     "user": {
      "displayName": "Stemplicity",
      "photoUrl": "https://lh3.googleusercontent.com/a-/AOh14Gj2vCFt-bD5mPBhUWX0QA6xiBgoXQXtwUm2jgjaCg=s64",
      "userId": "10668071569687886186"
     },
     "user_tz": 240
    },
    "id": "QeDCPO9hNAKj"
   },
   "outputs": [
    {
     "data": {
      "text/plain": [
       "Facebook    3000\n",
       "Apple        400\n",
       "Nvidia      2200\n",
       "dtype: int64"
      ]
     },
     "execution_count": 56,
     "metadata": {},
     "output_type": "execute_result"
    }
   ],
   "source": [
    "# Let's define a Pandas Series Using the dictionary\n",
    "my_series = pd.Series(stocks)\n",
    "my_series"
   ]
  },
  {
   "cell_type": "markdown",
   "metadata": {
    "id": "lB8OYAVJXRYe"
   },
   "source": [
    "**MINI CHALLENGE #4 SOLUTION:** \n",
    "- **What is the size of the Pandas Series? (External Research is Required)**"
   ]
  },
  {
   "cell_type": "code",
   "execution_count": 57,
   "metadata": {
    "executionInfo": {
     "elapsed": 3191,
     "status": "aborted",
     "timestamp": 1618858275597,
     "user": {
      "displayName": "Stemplicity",
      "photoUrl": "https://lh3.googleusercontent.com/a-/AOh14Gj2vCFt-bD5mPBhUWX0QA6xiBgoXQXtwUm2jgjaCg=s64",
      "userId": "10668071569687886186"
     },
     "user_tz": 240
    },
    "id": "D5D0wFlmXRYf"
   },
   "outputs": [
    {
     "data": {
      "text/plain": [
       "5"
      ]
     },
     "execution_count": 57,
     "metadata": {},
     "output_type": "execute_result"
    }
   ],
   "source": [
    "# size is used to return the size of the series\n",
    "crypto_series.size"
   ]
  },
  {
   "cell_type": "markdown",
   "metadata": {
    "id": "5D7QSEf7Y8aa"
   },
   "source": [
    "**MINI CHALLENGE #5 SOLUTION:** \n",
    "- **Show the last 2 rows in the Pandas Series (External Research is Required)** \n",
    "- **How many bytes does this Pandas Series consume in memory? (External Research is Required)**"
   ]
  },
  {
   "cell_type": "code",
   "execution_count": 58,
   "metadata": {
    "executionInfo": {
     "elapsed": 3182,
     "status": "aborted",
     "timestamp": 1618858275597,
     "user": {
      "displayName": "Stemplicity",
      "photoUrl": "https://lh3.googleusercontent.com/a-/AOh14Gj2vCFt-bD5mPBhUWX0QA6xiBgoXQXtwUm2jgjaCg=s64",
      "userId": "10668071569687886186"
     },
     "user_tz": 240
    },
    "id": "FsSGV7I3Y_ja"
   },
   "outputs": [
    {
     "data": {
      "text/plain": [
       "3    20\n",
       "4    70\n",
       "dtype: int64"
      ]
     },
     "execution_count": 58,
     "metadata": {},
     "output_type": "execute_result"
    }
   ],
   "source": [
    "crypto_prices.tail(2)"
   ]
  },
  {
   "cell_type": "code",
   "execution_count": 59,
   "metadata": {
    "executionInfo": {
     "elapsed": 3173,
     "status": "aborted",
     "timestamp": 1618858275598,
     "user": {
      "displayName": "Stemplicity",
      "photoUrl": "https://lh3.googleusercontent.com/a-/AOh14Gj2vCFt-bD5mPBhUWX0QA6xiBgoXQXtwUm2jgjaCg=s64",
      "userId": "10668071569687886186"
     },
     "user_tz": 240
    },
    "id": "s8g0WhX6Y8aa"
   },
   "outputs": [
    {
     "data": {
      "text/plain": [
       "168"
      ]
     },
     "execution_count": 59,
     "metadata": {},
     "output_type": "execute_result"
    }
   ],
   "source": [
    "crypto_prices.memory_usage()"
   ]
  },
  {
   "cell_type": "code",
   "execution_count": null,
   "metadata": {
    "executionInfo": {
     "elapsed": 3172,
     "status": "aborted",
     "timestamp": 1618858275599,
     "user": {
      "displayName": "Stemplicity",
      "photoUrl": "https://lh3.googleusercontent.com/a-/AOh14Gj2vCFt-bD5mPBhUWX0QA6xiBgoXQXtwUm2jgjaCg=s64",
      "userId": "10668071569687886186"
     },
     "user_tz": 240
    },
    "id": "k27pa4L1fv7-"
   },
   "outputs": [],
   "source": []
  },
  {
   "cell_type": "markdown",
   "metadata": {
    "id": "Thrv0augRv88"
   },
   "source": [
    "**MINI CHALLENGE #6 SOLUTION:**\n",
    "- **Set Squeeze = False and rerun the cell, what do you notice? Use Type to compare both outputs**"
   ]
  },
  {
   "cell_type": "code",
   "execution_count": 60,
   "metadata": {
    "executionInfo": {
     "elapsed": 3170,
     "status": "aborted",
     "timestamp": 1618858275600,
     "user": {
      "displayName": "Stemplicity",
      "photoUrl": "https://lh3.googleusercontent.com/a-/AOh14Gj2vCFt-bD5mPBhUWX0QA6xiBgoXQXtwUm2jgjaCg=s64",
      "userId": "10668071569687886186"
     },
     "user_tz": 240
    },
    "id": "Ebt-VMfccjR6"
   },
   "outputs": [],
   "source": [
    "BTC_price_series = pd.read_csv('crypto.csv', squeeze = False)\n",
    "# Note that when you set Squeeze = False, the data is stored in a DataFrame by default. \n",
    "# DataFrame is simply used to store multi dimensional data as compares to Pandas Series that only holds 1-D dataset \n",
    "# Note that DataFrames has proper formatting when you attempt to view them as shown below \n",
    "# Note that Pandas Series has no formatting\n"
   ]
  },
  {
   "cell_type": "code",
   "execution_count": 61,
   "metadata": {
    "executionInfo": {
     "elapsed": 3164,
     "status": "aborted",
     "timestamp": 1618858275603,
     "user": {
      "displayName": "Stemplicity",
      "photoUrl": "https://lh3.googleusercontent.com/a-/AOh14Gj2vCFt-bD5mPBhUWX0QA6xiBgoXQXtwUm2jgjaCg=s64",
      "userId": "10668071569687886186"
     },
     "user_tz": 240
    },
    "id": "WsTIJJlRSFkJ"
   },
   "outputs": [
    {
     "data": {
      "text/html": [
       "<div>\n",
       "<style scoped>\n",
       "    .dataframe tbody tr th:only-of-type {\n",
       "        vertical-align: middle;\n",
       "    }\n",
       "\n",
       "    .dataframe tbody tr th {\n",
       "        vertical-align: top;\n",
       "    }\n",
       "\n",
       "    .dataframe thead th {\n",
       "        text-align: right;\n",
       "    }\n",
       "</style>\n",
       "<table border=\"1\" class=\"dataframe\">\n",
       "  <thead>\n",
       "    <tr style=\"text-align: right;\">\n",
       "      <th></th>\n",
       "      <th>BTC-USD Price</th>\n",
       "    </tr>\n",
       "  </thead>\n",
       "  <tbody>\n",
       "    <tr>\n",
       "      <th>0</th>\n",
       "      <td>457.334015</td>\n",
       "    </tr>\n",
       "    <tr>\n",
       "      <th>1</th>\n",
       "      <td>424.440002</td>\n",
       "    </tr>\n",
       "    <tr>\n",
       "      <th>2</th>\n",
       "      <td>394.795990</td>\n",
       "    </tr>\n",
       "    <tr>\n",
       "      <th>3</th>\n",
       "      <td>408.903992</td>\n",
       "    </tr>\n",
       "    <tr>\n",
       "      <th>4</th>\n",
       "      <td>398.821014</td>\n",
       "    </tr>\n",
       "    <tr>\n",
       "      <th>...</th>\n",
       "      <td>...</td>\n",
       "    </tr>\n",
       "    <tr>\n",
       "      <th>2380</th>\n",
       "      <td>55950.746090</td>\n",
       "    </tr>\n",
       "    <tr>\n",
       "      <th>2381</th>\n",
       "      <td>57750.199220</td>\n",
       "    </tr>\n",
       "    <tr>\n",
       "      <th>2382</th>\n",
       "      <td>58917.691410</td>\n",
       "    </tr>\n",
       "    <tr>\n",
       "      <th>2383</th>\n",
       "      <td>58918.832030</td>\n",
       "    </tr>\n",
       "    <tr>\n",
       "      <th>2384</th>\n",
       "      <td>59095.808590</td>\n",
       "    </tr>\n",
       "  </tbody>\n",
       "</table>\n",
       "<p>2385 rows × 1 columns</p>\n",
       "</div>"
      ],
      "text/plain": [
       "      BTC-USD Price\n",
       "0        457.334015\n",
       "1        424.440002\n",
       "2        394.795990\n",
       "3        408.903992\n",
       "4        398.821014\n",
       "...             ...\n",
       "2380   55950.746090\n",
       "2381   57750.199220\n",
       "2382   58917.691410\n",
       "2383   58918.832030\n",
       "2384   59095.808590\n",
       "\n",
       "[2385 rows x 1 columns]"
      ]
     },
     "execution_count": 61,
     "metadata": {},
     "output_type": "execute_result"
    }
   ],
   "source": [
    "BTC_price_series"
   ]
  },
  {
   "cell_type": "code",
   "execution_count": 62,
   "metadata": {
    "executionInfo": {
     "elapsed": 3153,
     "status": "aborted",
     "timestamp": 1618858275604,
     "user": {
      "displayName": "Stemplicity",
      "photoUrl": "https://lh3.googleusercontent.com/a-/AOh14Gj2vCFt-bD5mPBhUWX0QA6xiBgoXQXtwUm2jgjaCg=s64",
      "userId": "10668071569687886186"
     },
     "user_tz": 240
    },
    "id": "NJXOLvacSjh9"
   },
   "outputs": [
    {
     "data": {
      "text/plain": [
       "pandas.core.frame.DataFrame"
      ]
     },
     "execution_count": 62,
     "metadata": {},
     "output_type": "execute_result"
    }
   ],
   "source": [
    "type(BTC_price_series)"
   ]
  },
  {
   "cell_type": "code",
   "execution_count": 63,
   "metadata": {
    "executionInfo": {
     "elapsed": 3145,
     "status": "aborted",
     "timestamp": 1618858275605,
     "user": {
      "displayName": "Stemplicity",
      "photoUrl": "https://lh3.googleusercontent.com/a-/AOh14Gj2vCFt-bD5mPBhUWX0QA6xiBgoXQXtwUm2jgjaCg=s64",
      "userId": "10668071569687886186"
     },
     "user_tz": 240
    },
    "id": "VqShdXDGSjnD"
   },
   "outputs": [
    {
     "data": {
      "text/plain": [
       "pandas.core.series.Series"
      ]
     },
     "execution_count": 63,
     "metadata": {},
     "output_type": "execute_result"
    }
   ],
   "source": [
    "BTC_price_series = pd.read_csv('crypto.csv', squeeze = True)\n",
    "type(BTC_price_series)"
   ]
  },
  {
   "cell_type": "markdown",
   "metadata": {
    "id": "c9aEM3KTT619"
   },
   "source": [
    "**MINI CHALLENGE #7 SOLUTION:**\n",
    "- **Given the following Pandas Series, convert all positive values to negative using python built-in functions**\n",
    "- **Obtain only unique values (ie: Remove duplicates) using python built-in functions**\n",
    "- my_series = pd.Series(data = [-10, 100, -30, 50, 100])\n"
   ]
  },
  {
   "cell_type": "code",
   "execution_count": 64,
   "metadata": {
    "executionInfo": {
     "elapsed": 3137,
     "status": "aborted",
     "timestamp": 1618858275606,
     "user": {
      "displayName": "Stemplicity",
      "photoUrl": "https://lh3.googleusercontent.com/a-/AOh14Gj2vCFt-bD5mPBhUWX0QA6xiBgoXQXtwUm2jgjaCg=s64",
      "userId": "10668071569687886186"
     },
     "user_tz": 240
    },
    "id": "VP5bBkaOUIpo"
   },
   "outputs": [
    {
     "data": {
      "text/plain": [
       "0    -10\n",
       "1    100\n",
       "2    -30\n",
       "3     50\n",
       "4    100\n",
       "dtype: int64"
      ]
     },
     "execution_count": 64,
     "metadata": {},
     "output_type": "execute_result"
    }
   ],
   "source": [
    "my_series = pd.Series(data = [-10, 100, -30, 50, 100])\n",
    "my_series"
   ]
  },
  {
   "cell_type": "code",
   "execution_count": 65,
   "metadata": {
    "executionInfo": {
     "elapsed": 3129,
     "status": "aborted",
     "timestamp": 1618858275606,
     "user": {
      "displayName": "Stemplicity",
      "photoUrl": "https://lh3.googleusercontent.com/a-/AOh14Gj2vCFt-bD5mPBhUWX0QA6xiBgoXQXtwUm2jgjaCg=s64",
      "userId": "10668071569687886186"
     },
     "user_tz": 240
    },
    "id": "NFKY2ZNRaQ-s"
   },
   "outputs": [
    {
     "data": {
      "text/plain": [
       "0     10\n",
       "1    100\n",
       "2     30\n",
       "3     50\n",
       "4    100\n",
       "dtype: int64"
      ]
     },
     "execution_count": 65,
     "metadata": {},
     "output_type": "execute_result"
    }
   ],
   "source": [
    "abs(my_series)"
   ]
  },
  {
   "cell_type": "code",
   "execution_count": 66,
   "metadata": {
    "executionInfo": {
     "elapsed": 3120,
     "status": "aborted",
     "timestamp": 1618858275607,
     "user": {
      "displayName": "Stemplicity",
      "photoUrl": "https://lh3.googleusercontent.com/a-/AOh14Gj2vCFt-bD5mPBhUWX0QA6xiBgoXQXtwUm2jgjaCg=s64",
      "userId": "10668071569687886186"
     },
     "user_tz": 240
    },
    "id": "xqWCYc0n6V-d"
   },
   "outputs": [
    {
     "data": {
      "text/plain": [
       "{-30, -10, 50, 100}"
      ]
     },
     "execution_count": 66,
     "metadata": {},
     "output_type": "execute_result"
    }
   ],
   "source": [
    "set(my_series)"
   ]
  },
  {
   "cell_type": "markdown",
   "metadata": {
    "id": "5hAgN4ITfwPZ"
   },
   "source": [
    "**MINI CHALLENGE #8 SOLUTION:**\n",
    "- **Sort the BTC_price_series values in a decending order instead. Make sure to update values in-memory.**"
   ]
  },
  {
   "cell_type": "code",
   "execution_count": 67,
   "metadata": {
    "executionInfo": {
     "elapsed": 3111,
     "status": "aborted",
     "timestamp": 1618858275607,
     "user": {
      "displayName": "Stemplicity",
      "photoUrl": "https://lh3.googleusercontent.com/a-/AOh14Gj2vCFt-bD5mPBhUWX0QA6xiBgoXQXtwUm2jgjaCg=s64",
      "userId": "10668071569687886186"
     },
     "user_tz": 240
    },
    "id": "XbMv5fujfwPa"
   },
   "outputs": [
    {
     "data": {
      "text/plain": [
       "2365    61243.085940\n",
       "2366    59302.316410\n",
       "2384    59095.808590\n",
       "2383    58918.832030\n",
       "2382    58917.691410\n",
       "            ...     \n",
       "123       210.339004\n",
       "120       209.843994\n",
       "121       208.097000\n",
       "122       199.259995\n",
       "119       178.102997\n",
       "Name: BTC-USD Price, Length: 2385, dtype: float64"
      ]
     },
     "execution_count": 67,
     "metadata": {},
     "output_type": "execute_result"
    }
   ],
   "source": [
    "BTC_price_series.sort_values(ascending = False, inplace = True) \n",
    "BTC_price_series"
   ]
  },
  {
   "cell_type": "markdown",
   "metadata": {
    "id": "BJJRSL5jlDlV"
   },
   "source": [
    "**MINI CHALLENGE #9 SOLUTION:**\n",
    "- **Obtain the average price using two different methods**"
   ]
  },
  {
   "cell_type": "code",
   "execution_count": 68,
   "metadata": {
    "executionInfo": {
     "elapsed": 3082,
     "status": "aborted",
     "timestamp": 1618858275608,
     "user": {
      "displayName": "Stemplicity",
      "photoUrl": "https://lh3.googleusercontent.com/a-/AOh14Gj2vCFt-bD5mPBhUWX0QA6xiBgoXQXtwUm2jgjaCg=s64",
      "userId": "10668071569687886186"
     },
     "user_tz": 240
    },
    "id": "PPjFgt5FlDlW"
   },
   "outputs": [
    {
     "data": {
      "text/plain": [
       "6471.857332852285"
      ]
     },
     "execution_count": 68,
     "metadata": {},
     "output_type": "execute_result"
    }
   ],
   "source": [
    "# Obtain the average - Solution #1\n",
    "BTC_price_series.sum()/BTC_price_series.count()"
   ]
  },
  {
   "cell_type": "code",
   "execution_count": 69,
   "metadata": {
    "executionInfo": {
     "elapsed": 3056,
     "status": "aborted",
     "timestamp": 1618858275609,
     "user": {
      "displayName": "Stemplicity",
      "photoUrl": "https://lh3.googleusercontent.com/a-/AOh14Gj2vCFt-bD5mPBhUWX0QA6xiBgoXQXtwUm2jgjaCg=s64",
      "userId": "10668071569687886186"
     },
     "user_tz": 240
    },
    "id": "P10NuBnslDlW"
   },
   "outputs": [
    {
     "data": {
      "text/plain": [
       "6471.857332852285"
      ]
     },
     "execution_count": 69,
     "metadata": {},
     "output_type": "execute_result"
    }
   ],
   "source": [
    "# Obtain the average - Solution #s\n",
    "BTC_price_series.mean()"
   ]
  },
  {
   "cell_type": "code",
   "execution_count": null,
   "metadata": {
    "executionInfo": {
     "elapsed": 3052,
     "status": "aborted",
     "timestamp": 1618858275609,
     "user": {
      "displayName": "Stemplicity",
      "photoUrl": "https://lh3.googleusercontent.com/a-/AOh14Gj2vCFt-bD5mPBhUWX0QA6xiBgoXQXtwUm2jgjaCg=s64",
      "userId": "10668071569687886186"
     },
     "user_tz": 240
    },
    "id": "TZkayhzAby14"
   },
   "outputs": [],
   "source": []
  },
  {
   "cell_type": "markdown",
   "metadata": {
    "id": "VUaaCo_5a8h0"
   },
   "source": [
    "**MINI CHALLENGE #10 SOLUTION:**\n",
    "- **Check if the stock price 399 exists in the BTC_price_series Pandas Series or not**\n",
    "- **Round stock prices to the nearest integer and check again**"
   ]
  },
  {
   "cell_type": "code",
   "execution_count": 70,
   "metadata": {
    "executionInfo": {
     "elapsed": 3043,
     "status": "aborted",
     "timestamp": 1618858275610,
     "user": {
      "displayName": "Stemplicity",
      "photoUrl": "https://lh3.googleusercontent.com/a-/AOh14Gj2vCFt-bD5mPBhUWX0QA6xiBgoXQXtwUm2jgjaCg=s64",
      "userId": "10668071569687886186"
     },
     "user_tz": 240
    },
    "id": "650WOhWVjMGx"
   },
   "outputs": [
    {
     "data": {
      "text/plain": [
       "False"
      ]
     },
     "execution_count": 70,
     "metadata": {},
     "output_type": "execute_result"
    }
   ],
   "source": [
    "399 in BTC_price_series.values"
   ]
  },
  {
   "cell_type": "code",
   "execution_count": 71,
   "metadata": {
    "executionInfo": {
     "elapsed": 3036,
     "status": "aborted",
     "timestamp": 1618858275611,
     "user": {
      "displayName": "Stemplicity",
      "photoUrl": "https://lh3.googleusercontent.com/a-/AOh14Gj2vCFt-bD5mPBhUWX0QA6xiBgoXQXtwUm2jgjaCg=s64",
      "userId": "10668071569687886186"
     },
     "user_tz": 240
    },
    "id": "8T7B5PhsbVB0"
   },
   "outputs": [
    {
     "data": {
      "text/plain": [
       "2365    61243.0\n",
       "2366    59302.0\n",
       "2384    59096.0\n",
       "2383    58919.0\n",
       "2382    58918.0\n",
       "         ...   \n",
       "123       210.0\n",
       "120       210.0\n",
       "121       208.0\n",
       "122       199.0\n",
       "119       178.0\n",
       "Name: BTC-USD Price, Length: 2385, dtype: float64"
      ]
     },
     "execution_count": 71,
     "metadata": {},
     "output_type": "execute_result"
    }
   ],
   "source": [
    "prices_series = round(BTC_price_series)\n",
    "prices_series"
   ]
  },
  {
   "cell_type": "code",
   "execution_count": 72,
   "metadata": {
    "executionInfo": {
     "elapsed": 3026,
     "status": "aborted",
     "timestamp": 1618858275611,
     "user": {
      "displayName": "Stemplicity",
      "photoUrl": "https://lh3.googleusercontent.com/a-/AOh14Gj2vCFt-bD5mPBhUWX0QA6xiBgoXQXtwUm2jgjaCg=s64",
      "userId": "10668071569687886186"
     },
     "user_tz": 240
    },
    "id": "Ads3YyW_bhVh"
   },
   "outputs": [
    {
     "data": {
      "text/plain": [
       "True"
      ]
     },
     "execution_count": 72,
     "metadata": {},
     "output_type": "execute_result"
    }
   ],
   "source": [
    "399 in prices_series.values"
   ]
  },
  {
   "cell_type": "code",
   "execution_count": null,
   "metadata": {},
   "outputs": [],
   "source": []
  },
  {
   "cell_type": "code",
   "execution_count": 3,
   "metadata": {},
   "outputs": [],
   "source": [
    "import pandas as pd"
   ]
  },
  {
   "cell_type": "code",
   "execution_count": 4,
   "metadata": {},
   "outputs": [
    {
     "data": {
      "text/plain": [
       "dtype('O')"
      ]
     },
     "execution_count": 4,
     "metadata": {},
     "output_type": "execute_result"
    }
   ],
   "source": [
    "crypto_list = ['BTC','XRP','LTC', 'ADA', 'ETH'] \n",
    "crypto_series = pd.Series(data = crypto_list)\n",
    "crypto_series.dtype"
   ]
  },
  {
   "cell_type": "code",
   "execution_count": 5,
   "metadata": {},
   "outputs": [
    {
     "data": {
      "text/plain": [
       "498.0"
      ]
     },
     "execution_count": 5,
     "metadata": {},
     "output_type": "execute_result"
    }
   ],
   "source": [
    "crypto_prices = pd.Series(data = [400, 500, 1500, 20, 70])\n",
    "crypto_prices.mean()"
   ]
  },
  {
   "cell_type": "code",
   "execution_count": 6,
   "metadata": {},
   "outputs": [
    {
     "data": {
      "text/plain": [
       "0    100\n",
       "1    100\n",
       "2    300\n",
       "3     50\n",
       "4    100\n",
       "dtype: int64"
      ]
     },
     "execution_count": 6,
     "metadata": {},
     "output_type": "execute_result"
    }
   ],
   "source": [
    "my_series = pd.Series(data = [-100, 100, -300, 50, 100])\n",
    "abs(my_series)"
   ]
  }
 ],
 "metadata": {
  "colab": {
   "authorship_tag": "ABX9TyP9Y/XANKrtczPMhh6Kukca",
   "collapsed_sections": [],
   "name": "1. Pandas Fundamentals - Series.ipynb",
   "provenance": [],
   "toc_visible": true
  },
  "kernelspec": {
   "display_name": "Python 3 (ipykernel)",
   "language": "python",
   "name": "python3"
  },
  "language_info": {
   "codemirror_mode": {
    "name": "ipython",
    "version": 3
   },
   "file_extension": ".py",
   "mimetype": "text/x-python",
   "name": "python",
   "nbconvert_exporter": "python",
   "pygments_lexer": "ipython3",
   "version": "3.9.7"
  }
 },
 "nbformat": 4,
 "nbformat_minor": 1
}
